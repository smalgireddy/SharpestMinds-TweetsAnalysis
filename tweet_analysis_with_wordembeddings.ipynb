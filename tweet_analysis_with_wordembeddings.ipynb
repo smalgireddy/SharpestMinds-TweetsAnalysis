{
 "cells": [
  {
   "cell_type": "code",
   "execution_count": 1,
   "metadata": {
    "collapsed": false
   },
   "outputs": [
    {
     "name": "stderr",
     "output_type": "stream",
     "text": [
      "Using TensorFlow backend.\n"
     ]
    }
   ],
   "source": [
    "import time\n",
    "import numpy as np\n",
    "import tensorflow as tf\n",
    "import re\n",
    "import os\n",
    "import numpy as np\n",
    "import pandas as pd\n",
    "import matplotlib.pyplot as plt\n",
    "import json\n",
    "from string import punctuation\n",
    "import collections, operator\n",
    "from scikitplot import plotters as skplt\n",
    "import nltk\n",
    "#scikit-learn package\n",
    "from sklearn.preprocessing import OneHotEncoder, LabelEncoder\n",
    "from sklearn.model_selection import train_test_split\n",
    "from sklearn.model_selection import GridSearchCV\n",
    "from sklearn.ensemble import GradientBoostingClassifier\n",
    "#keras\n",
    "from __future__ import print_function\n",
    "from keras.preprocessing import sequence\n",
    "from keras.models import Sequential, Model, save_model, load_model\n",
    "from keras.layers import Dense, Dropout, Activation\n",
    "from keras.layers import Conv1D, MaxPooling1D, Embedding, Dropout, Conv2D, MaxPooling2D, Reshape, merge, BatchNormalization, concatenate\n",
    "from keras import backend as K\n",
    "from keras.layers import Input, Flatten, Lambda\n",
    "from keras.preprocessing.text import Tokenizer\n",
    "from keras.preprocessing.sequence import pad_sequences, skipgrams, make_sampling_table\n",
    "from keras.utils import np_utils\n",
    "from keras.preprocessing.text import text_to_word_sequence\n",
    "from IPython.display import Image, display, SVG\n",
    "from keras.utils.vis_utils import model_to_dot\n",
    "from keras.utils.data_utils import get_file\n",
    "#gensim\n",
    "import gensim\n",
    "from gensim.models import word2vec, Phrases, word2vec\n",
    "from gensim.parsing.preprocessing import STOPWORDS\n",
    "from gensim.models.doc2vec import LabeledSentence\n",
    "from gensim.models import Doc2Vec\n",
    "from nltk.corpus import stopwords\n",
    "from nltk.tokenize import word_tokenize, sent_tokenize"
   ]
  },
  {
   "cell_type": "markdown",
   "metadata": {},
   "source": [
    "## tweets data pre-processing step\n",
    "1. Loading the data from json files into dataframes\n",
    "2. Filtering the data with tweets text\n",
    "3. Seperating the data frames based on the tweets type\n",
    "4. finally 3 data frames with the following labels\n",
    "    * tweets_food\n",
    "        * Labels : healthy, junk, unhealthy\n",
    "    * tweets_borne\n",
    "        * Labels : relevant, irrelevant\n",
    "    * tweets_exercise\n",
    "        * Labels : relevant, irrelevant"
   ]
  },
  {
   "cell_type": "code",
   "execution_count": 2,
   "metadata": {
    "collapsed": false
   },
   "outputs": [
    {
     "name": "stdout",
     "output_type": "stream",
     "text": [
      "(7294, 16)\n",
      "tweets with food dataframe shape is (7294, 16)\n",
      "tweets with borne dataframe shape is (470, 16)\n",
      "tweets with exercises dataframe shape is (2201, 16)\n",
      "(28246, 10)\n",
      "data with labels 26922\n",
      "removing data without labels\n",
      "after removing the shape of the data is(26922, 10)\n",
      "0    RT @_skull_queen_: So..... has anyone ever act...\n",
      "1    RT @_skull_queen_: So..... has anyone ever act...\n",
      "2    RT @_skull_queen_: So..... has anyone ever act...\n",
      "3    RT @_skull_queen_: So..... has anyone ever act...\n",
      "4    RT @_skull_queen_: So..... has anyone ever act...\n",
      "Name: tweets_data_text, dtype: object\n",
      "tweets with food dataframe shape is (19504, 2)\n",
      "tweets with borne dataframe shape is (16550, 2)\n",
      "tweets with exercises dataframe shape is (2469, 2)\n"
     ]
    }
   ],
   "source": [
    "#preparing the data\n",
    "#json reading using pandas\n",
    "tweets_pd = pd.read_json('classified_tweets_latest.json', orient='columns')\n",
    "tweets_pd.head()\n",
    "tweets_text = (tweets_pd['tweet'].apply(lambda tweet : eval(tweet))).apply(lambda tweet : tweet['text'])\n",
    "tweets_pd = tweets_pd.assign(tweets_text = tweets_text)\n",
    "#tweets_pd.label_data.value_counts()\n",
    "#missing values checking for label_data\n",
    "tweets_pd = tweets_pd.loc[tweets_pd['food'] != 'None']\n",
    "tweets_pd = tweets_pd.loc[tweets_pd['label_data'] != '']\n",
    "print(tweets_pd.shape)\n",
    "tweets_pd['label_data'] = tweets_pd.label_data.str.lower()\n",
    "tweets_pd['tweets_text'] = tweets_pd.tweets_text.apply(lambda x: ' '.join(re.sub(r\"([!@#$]+)|([^A-Za-z .*\\t])|(\\w+:\\/\\/\\S+)\",' ',x).split()))\n",
    "#after removing special characters, we left with plain data with alphanumeric characters\n",
    "#seperate the data based on their class\n",
    "tweets_pd_food = tweets_pd.loc[tweets_pd.food == '1']\n",
    "tweets_pd_borne = tweets_pd.loc[tweets_pd.borne == '1']\n",
    "tweets_pd_exercies = tweets_pd.loc[tweets_pd.exercise == '1']\n",
    "print(\"tweets with food dataframe shape is {}\".format(tweets_pd_food.shape))\n",
    "print(\"tweets with borne dataframe shape is {}\".format(tweets_pd_borne.shape))\n",
    "print(\"tweets with exercises dataframe shape is {}\".format(tweets_pd_exercies.shape))\n",
    "pd_792017 = pd.read_json('07292017.json', orient='columns')\n",
    "pd_8022017 = pd.read_json('08022017.json', orient='columns')\n",
    "pd_8072017 = pd.read_json('08072017.json', orient='columns')\n",
    "pd_8082017 = pd.read_json('08082017.json', orient='columns')\n",
    "pd_8242017 = pd.read_json('08242017.json', orient='columns')\n",
    "tweets_data = pd.concat([pd_792017, pd_8022017, pd_8072017, pd_8082017, pd_8242017], ignore_index=True)\n",
    "tweets_data_text = (tweets_data.tweet.apply(lambda tweet: eval(tweet))).apply(lambda text: text['text'])\n",
    "#data with 9 columns\n",
    "tweets_data = tweets_data.assign(tweets_data_text = tweets_data_text)\n",
    "#tweets_data_text.head()\n",
    "#change the labels into category codes\n",
    "tweets_data.food = tweets_data.food.astype(\"category\")\n",
    "print(tweets_data.shape)\n",
    "#remove the tweets without label_data\n",
    "print(\"data with labels {}\".format(sum(tweets_data['label_data'] != '')))\n",
    "print(\"removing data without labels\")\n",
    "#missing values checking for label_data\n",
    "tweets_data = tweets_data.loc[tweets_data['label_data'] != '']\n",
    "print(\"after removing the shape of the data is{}\".format(tweets_data.shape))\n",
    "tweets_data['label_data'] = tweets_data.label_data.str.lower()\n",
    "tweets_data['tweets_text'] = tweets_data.tweets_data_text.apply(lambda x: ' '.join(re.sub(r\"([!@#$]+)|([^A-Za-z .*\\t])|(\\w+:\\/\\/\\S+)\",' ',x).split()))\n",
    "print(tweets_data.tweets_data_text.head())\n",
    "#after removing special characters, we left with plain data with alphanumeric characters\n",
    "#seperate the data based on their class\n",
    "tweets_data_food = tweets_data.loc[tweets_data.food == 1]\n",
    "tweets_data_borne = tweets_data.loc[tweets_data.borne == 1]\n",
    "tweets_data_exercies = tweets_data.loc[tweets_data.exercise == 1]\n",
    "tweets_data_food = tweets_data_food[['label_data','tweets_text']]\n",
    "tweets_data_borne = tweets_data_borne[['label_data','tweets_text']]\n",
    "tweets_data_exercies = tweets_data_exercies[['label_data','tweets_text']]\n",
    "tweets_pd_food = tweets_pd_food[['label_data','tweets_text']]\n",
    "tweets_pd_borne = tweets_pd_borne[['label_data','tweets_text']]\n",
    "tweets_pd_exercies = tweets_pd_exercies[['label_data','tweets_text']]\n",
    "tweets_food = pd.concat([tweets_data_food, tweets_pd_food])\n",
    "tweets_borne = pd.concat([tweets_data_borne, tweets_pd_borne])\n",
    "tweets_exercies = pd.concat([tweets_data_exercies, tweets_pd_exercies])\n",
    "print(\"tweets with food dataframe shape is {}\".format(tweets_food.shape))\n",
    "print(\"tweets with borne dataframe shape is {}\".format(tweets_borne.shape))\n",
    "print(\"tweets with exercises dataframe shape is {}\".format(tweets_exercies.shape))\n",
    "#'healthy','unhealthy','junk','relevant','irrelevant'\n",
    "food_labels = ['healthy','unhealthy','junk']\n",
    "borne_labels = exercise_labels = ['junk','relevant','irrelevant']\n",
    "tweets_food = tweets_food.loc[tweets_food.label_data.isin(food_labels)]\n",
    "tweets_borne = tweets_borne.loc[tweets_borne.label_data.isin(borne_labels)]\n",
    "tweets_exercies = tweets_exercies.loc[tweets_exercies.label_data.isin(exercise_labels)]\n",
    "\n",
    "#tweets_data_food.label_data.value_counts()"
   ]
  },
  {
   "cell_type": "code",
   "execution_count": 3,
   "metadata": {
    "collapsed": false
   },
   "outputs": [
    {
     "name": "stdout",
     "output_type": "stream",
     "text": [
      "before removing(17894, 2)\n",
      "after removing(11102, 2)\n",
      "before removing(15505, 2)\n",
      "after removing(7071, 2)\n",
      "before removing(2447, 2)\n",
      "after removing(2049, 2)\n"
     ]
    }
   ],
   "source": [
    "#i find few duplicate rows, so deleting the duplicate rows\n",
    "tweets_food = tweets_food.reset_index(drop=True)\n",
    "print(\"before removing{}\".format(tweets_food.shape))\n",
    "tweets_food = tweets_food.drop_duplicates()\n",
    "print(\"after removing{}\".format(tweets_food.shape))\n",
    "print(\"before removing{}\".format(tweets_borne.shape))\n",
    "tweets_borne = tweets_borne.drop_duplicates()\n",
    "print(\"after removing{}\".format(tweets_borne.shape))\n",
    "print(\"before removing{}\".format(tweets_exercies.shape))\n",
    "tweets_exercies = tweets_exercies.drop_duplicates()\n",
    "print(\"after removing{}\".format(tweets_exercies.shape))"
   ]
  },
  {
   "cell_type": "code",
   "execution_count": 4,
   "metadata": {
    "collapsed": false
   },
   "outputs": [
    {
     "data": {
      "image/png": "[encoded data removed]",
      "text/plain": [
       "<matplotlib.figure.Figure at 0x7f3367f23860>"
      ]
     },
     "metadata": {},
     "output_type": "display_data"
    }
   ],
   "source": [
    "food_label_count = tweets_food.label_data.value_counts()\n",
    "food_label_count.plot(kind = 'bar', rot=3)\n",
    "plt.show()"
   ]
  },
  {
   "cell_type": "code",
   "execution_count": 5,
   "metadata": {
    "collapsed": false
   },
   "outputs": [
    {
     "data": {
      "image/png": "[encoded data removed]",
      "text/plain": [
       "<matplotlib.figure.Figure at 0x7f3367f06da0>"
      ]
     },
     "metadata": {},
     "output_type": "display_data"
    }
   ],
   "source": [
    "borne_label_count = tweets_borne.label_data.value_counts()\n",
    "borne_label_count.plot(kind = 'bar', rot=3)\n",
    "plt.show()"
   ]
  },
  {
   "cell_type": "code",
   "execution_count": 6,
   "metadata": {
    "collapsed": false
   },
   "outputs": [
    {
     "data": {
      "image/png": "[encoded data removed]",
      "text/plain": [
       "<matplotlib.figure.Figure at 0x7f33777e3da0>"
      ]
     },
     "metadata": {},
     "output_type": "display_data"
    }
   ],
   "source": [
    "exercies_label_count = tweets_exercies.label_data.value_counts()\n",
    "exercies_label_count.plot(kind = 'bar', rot=3)\n",
    "plt.show()"
   ]
  },
  {
   "cell_type": "code",
   "execution_count": 7,
   "metadata": {
    "collapsed": true
   },
   "outputs": [],
   "source": [
    "tweets_borne.label_data = tweets_borne.label_data.apply(lambda x : \"irrelevant\" if x == \"junk\" else x)\n",
    "tweets_exercies.label_data = tweets_exercies.label_data.apply(lambda x : \"irrelevant\" if x == \"junk\" else x)"
   ]
  },
  {
   "cell_type": "markdown",
   "metadata": {},
   "source": [
    "## feature Engineering:\n",
    "1. tweets text tokenization\n",
    "2. tweets label conversion (one-hot encoding representation)"
   ]
  },
  {
   "cell_type": "code",
   "execution_count": 10,
   "metadata": {
    "collapsed": true
   },
   "outputs": [],
   "source": [
    "#since I am using skip-gram model I am not removing stop words\n",
    "#tokenize text into array of words\n",
    "stemmer=nltk.stem.SnowballStemmer('english')\n",
    "def tokenizeData(pdSeries):\n",
    "    #corpus = pdSeries.apply(lambda x: x.replace(\"\\n\",\"\").split())\n",
    "    corpus = [z.lower().replace('\\n','').split() for z in pdSeries]\n",
    "    return corpus"
   ]
  },
  {
   "cell_type": "code",
   "execution_count": 11,
   "metadata": {
    "collapsed": true
   },
   "outputs": [],
   "source": [
    "#before jump into models, I convert the categorical classes into one-hot encoding format\n",
    "# integer encode\n",
    "label_encoder = LabelEncoder()\n",
    "integer_encoded = label_encoder.fit_transform(tweets_food['label_data'])\n",
    "onehot_encoder = OneHotEncoder(sparse=False)\n",
    "integer_encoded = integer_encoded.reshape(len(integer_encoded), 1)\n",
    "labels = onehot_encoder.fit_transform(integer_encoded)\n",
    "#print(tweets_food['label_data'])"
   ]
  },
  {
   "cell_type": "markdown",
   "metadata": {},
   "source": [
    "## loading pretraineed 200 dimentional glove  word embedding from standford NLP library\n",
    "1. assign the weights of each word vector of the corrsponding word if the word presents in word-embedding matrix"
   ]
  },
  {
   "cell_type": "code",
   "execution_count": 12,
   "metadata": {
    "collapsed": true
   },
   "outputs": [],
   "source": [
    "#loading pretrained word embeddings\n",
    "embeddings_index = {}\n",
    "f = open('glove.twitter.27B.200d.txt')\n",
    "for line in f:\n",
    "    #print(line)\n",
    "    values = line.split()\n",
    "    word = values[0]\n",
    "    coefs = np.asarray(values[1:], dtype='float32')\n",
    "    embeddings_index[word] = coefs\n",
    "f.close()"
   ]
  },
  {
   "cell_type": "code",
   "execution_count": 13,
   "metadata": {
    "collapsed": true
   },
   "outputs": [],
   "source": [
    "tokenizer = Tokenizer()\n",
    "tokenizer.fit_on_texts(list(tweets_food.tweets_text))\n",
    "sequences = tokenizer.texts_to_sequences(list(tweets_food.tweets_text))\n",
    "word_index = tokenizer.word_index\n",
    "max_length = max(map(lambda x:len(x), tweets_food.tweets_text))\n",
    "data = pad_sequences(sequences, maxlen=max_length)"
   ]
  },
  {
   "cell_type": "code",
   "execution_count": 14,
   "metadata": {
    "collapsed": true
   },
   "outputs": [],
   "source": [
    "#assin the embed vector to corresponding words in the tweet corpus\n",
    "embed_dim = 200\n",
    "embedding_matrix = np.random.random((len(word_index) + 1, embed_dim))\n",
    "for word, i in word_index.items():\n",
    "    embedding_vector = embeddings_index.get(word)\n",
    "    if embedding_vector is not None:\n",
    "        # words not found in embedding index will be all-zeros.\n",
    "        embedding_matrix[i] = embedding_vector"
   ]
  },
  {
   "cell_type": "code",
   "execution_count": 15,
   "metadata": {
    "collapsed": true
   },
   "outputs": [],
   "source": [
    "#to save the model\n",
    "def saveModel(file_name, model):\n",
    "    #saving model to HDF5\n",
    "    model.save(\"{}_model.h5\".format(file_name))\n",
    "    print(\"Saved model to disk\")"
   ]
  },
  {
   "cell_type": "code",
   "execution_count": 16,
   "metadata": {
    "collapsed": true
   },
   "outputs": [],
   "source": [
    "def train_test_model(model, input_data, target, file_name):\n",
    "    train_x, test_x, train_y, test_y = train_test_split(input_data, target, test_size = 0.2)\n",
    "    model.compile(optimizer='adam', loss='categorical_crossentropy', metrics=['accuracy'])\n",
    "    model.fit(train_x, train_y, batch_size= 20, validation_split= 0.2, epochs=20,  verbose=True)\n",
    "    score = model.evaluate(test_x, test_y, verbose = 0)\n",
    "    print(\"the loss {} and the accuracy score for test dataset is {}\".format(score[0], score[1]))\n",
    "    saveModel(file_name, model)"
   ]
  },
  {
   "cell_type": "code",
   "execution_count": 17,
   "metadata": {
    "collapsed": false
   },
   "outputs": [
    {
     "name": "stdout",
     "output_type": "stream",
     "text": [
      "Train on 7104 samples, validate on 1777 samples\n",
      "Epoch 1/20\n",
      "7104/7104 [==============================] - 56s 8ms/step - loss: 0.5482 - acc: 0.7532 - val_loss: 0.5676 - val_acc: 0.7468\n",
      "Epoch 2/20\n",
      "7104/7104 [==============================] - 56s 8ms/step - loss: 0.5098 - acc: 0.7593 - val_loss: 0.5244 - val_acc: 0.7462\n",
      "Epoch 3/20\n",
      "7104/7104 [==============================] - 55s 8ms/step - loss: 0.4769 - acc: 0.7638 - val_loss: 0.5493 - val_acc: 0.7490\n",
      "Epoch 4/20\n",
      "7104/7104 [==============================] - 55s 8ms/step - loss: 0.5864 - acc: 0.7497 - val_loss: 0.8191 - val_acc: 0.7203\n",
      "Epoch 5/20\n",
      "7104/7104 [==============================] - 55s 8ms/step - loss: 0.5176 - acc: 0.7610 - val_loss: 0.5873 - val_acc: 0.7440\n",
      "Epoch 6/20\n",
      "7104/7104 [==============================] - 55s 8ms/step - loss: 0.4892 - acc: 0.7590 - val_loss: 0.5730 - val_acc: 0.7378\n",
      "Epoch 7/20\n",
      "7104/7104 [==============================] - 55s 8ms/step - loss: 0.4505 - acc: 0.7693 - val_loss: 0.5557 - val_acc: 0.7473\n",
      "Epoch 8/20\n",
      "7104/7104 [==============================] - 55s 8ms/step - loss: 0.5326 - acc: 0.7644 - val_loss: 0.6658 - val_acc: 0.7406\n",
      "Epoch 9/20\n",
      "7104/7104 [==============================] - 55s 8ms/step - loss: 0.4742 - acc: 0.7659 - val_loss: 0.6133 - val_acc: 0.7361\n",
      "Epoch 10/20\n",
      "7104/7104 [==============================] - 55s 8ms/step - loss: 0.4610 - acc: 0.7689 - val_loss: 0.7330 - val_acc: 0.7119\n",
      "Epoch 11/20\n",
      "7104/7104 [==============================] - 55s 8ms/step - loss: 0.4580 - acc: 0.7683 - val_loss: 0.6339 - val_acc: 0.7400\n",
      "Epoch 12/20\n",
      "7104/7104 [==============================] - 55s 8ms/step - loss: 0.4504 - acc: 0.7697 - val_loss: 0.6283 - val_acc: 0.7394\n",
      "Epoch 13/20\n",
      "7104/7104 [==============================] - 55s 8ms/step - loss: 0.4817 - acc: 0.7668 - val_loss: 0.6122 - val_acc: 0.7304\n",
      "Epoch 14/20\n",
      "7104/7104 [==============================] - 55s 8ms/step - loss: 0.4622 - acc: 0.7659 - val_loss: 0.5838 - val_acc: 0.7389\n",
      "Epoch 15/20\n",
      "7104/7104 [==============================] - 55s 8ms/step - loss: 0.4434 - acc: 0.7710 - val_loss: 0.5847 - val_acc: 0.7378\n",
      "Epoch 16/20\n",
      "7104/7104 [==============================] - 55s 8ms/step - loss: 0.4432 - acc: 0.7690 - val_loss: 0.5828 - val_acc: 0.7417\n",
      "Epoch 17/20\n",
      "7104/7104 [==============================] - 55s 8ms/step - loss: 0.4587 - acc: 0.7718 - val_loss: 0.6550 - val_acc: 0.7361\n",
      "Epoch 18/20\n",
      "7104/7104 [==============================] - 55s 8ms/step - loss: 0.4634 - acc: 0.7684 - val_loss: 0.5752 - val_acc: 0.7293\n",
      "Epoch 19/20\n",
      "7104/7104 [==============================] - 55s 8ms/step - loss: 0.4402 - acc: 0.7704 - val_loss: 0.6332 - val_acc: 0.7321\n",
      "Epoch 20/20\n",
      "7104/7104 [==============================] - 55s 8ms/step - loss: 0.4357 - acc: 0.7720 - val_loss: 0.5840 - val_acc: 0.7349\n",
      "the loss 0.5791972968987332 and the accuracy score for test dataset is 0.7460603332905982\n",
      "Saved model to disk\n"
     ]
    }
   ],
   "source": [
    "if os.path.isfile('glove_model.h5'):\n",
    "    model = load_model('glove_model.h5')\n",
    "    train_test_model(model, data, labels, \"glove\")\n",
    "else:\n",
    "    embedding_layer = Embedding(len(word_index) + 1,\n",
    "                                embed_dim,\n",
    "                                weights=[embedding_matrix],\n",
    "                                input_length=max_length,\n",
    "                                trainable=True)\n",
    "\n",
    "    sequence_input = Input(shape=(max_length,), dtype='int32')\n",
    "    embedded_sequences = embedding_layer(sequence_input)\n",
    "    l_cov1= Conv1D(512, 4, activation='relu')(embedded_sequences)\n",
    "\n",
    "    l_pool1 = MaxPooling1D(4)(l_cov1)\n",
    "    l_cov2 = Conv1D(512, 5, activation='relu')(l_pool1)\n",
    "    l_pool2 = MaxPooling1D(5)(l_cov2)\n",
    "    l_cov3 = Conv1D(512, 5, padding=\"same\", activation='relu')(l_pool2)\n",
    "    l_pool3 = MaxPooling1D(35, padding=\"same\")(l_cov3)\n",
    "    l_flat = Flatten()(l_pool3)\n",
    "    dropout = Dropout(0.5)(l_flat)\n",
    "    l_dense = Dense(128, activation='relu')(dropout)\n",
    "    pred = Dense(3, activation='softmax', name = 'fc')(l_dense)\n",
    "    model = Model(sequence_input, pred)\n",
    "    print(model.summary())\n",
    "    train_test_model(model, data, labels, \"glove\")"
   ]
  },
  {
   "cell_type": "code",
   "execution_count": 18,
   "metadata": {
    "collapsed": true
   },
   "outputs": [],
   "source": [
    "# train_x, test_x, train_y, test_y = train_test_split(data, labels, test_size = 0.2)\n",
    "# x_train, val_x, y_train, val_y = train_test_split(train_x, train_y, test_size = 0.2) \n",
    "# model.fit(x_train, y_train, validation_data=(val_x, val_y), epochs = 20, batch_size = 20, verbose = False)\n",
    "# score = model.evaluate(test_x, test_y, verbose = 0)\n",
    "# print(\"the loss {} and the accuracy score for test dataset is {}\".format(score[0], score[1]))"
   ]
  },
  {
   "cell_type": "markdown",
   "metadata": {},
   "source": [
    "## till now we have seen the model perofrmance using tweet-glove preptrained glove-model now we will train the our own  word2vec:CBOW model for CNN classification'"
   ]
  },
  {
   "cell_type": "code",
   "execution_count": 19,
   "metadata": {
    "collapsed": true
   },
   "outputs": [],
   "source": [
    "def word_freq(all_vocabulary, freq):\n",
    "    sorted_vocab = sorted(dict(collections.Counter(all_vocabulary)).items(), key=operator.itemgetter(1))\n",
    "    final_vocab = [k for k,v in sorted_vocab if v>freq]\n",
    "    word_idx = dict((c, i + 1) for i, c in enumerate(final_vocab))\n",
    "    return final_vocab, word_idx\n",
    "\n",
    "final_vocab, word_idx = word_freq(np.hstack(tokenizeData(tweets_food.tweets_text)),2)\n",
    "vocab_len = len(final_vocab)\n",
    "\n",
    "def sentenceToVect(data, word_idx, final_vocab, maxlen=40):\n",
    "    X = []\n",
    "    notexist = len(final_vocab)+2\n",
    "    for sentences in data:\n",
    "        x=[]\n",
    "        for word in sentences.split(\" \"):\n",
    "            if word in final_vocab:\n",
    "                x.append(word_idx[word])\n",
    "            else:\n",
    "                x.append(notexist)\n",
    "        X.append(x)\n",
    "    return (pad_sequences(X, maxlen=maxlen))\n",
    "\n",
    "max_length = 50\n",
    "embed_dim = 150\n",
    "train_data = sentenceToVect(tweets_food.tweets_text, word_idx, final_vocab, max_length)\n",
    "final_vocab_len = vocab_len+3"
   ]
  },
  {
   "cell_type": "code",
   "execution_count": 20,
   "metadata": {
    "collapsed": false
   },
   "outputs": [
    {
     "name": "stdout",
     "output_type": "stream",
     "text": [
      "Train on 7104 samples, validate on 1777 samples\n",
      "Epoch 1/20\n",
      "7104/7104 [==============================] - 9s 1ms/step - loss: 0.8815 - acc: 0.7221 - val_loss: 0.5364 - val_acc: 0.7935\n",
      "Epoch 2/20\n",
      "7104/7104 [==============================] - 9s 1ms/step - loss: 0.5677 - acc: 0.7690 - val_loss: 0.4914 - val_acc: 0.8070\n",
      "Epoch 3/20\n",
      "7104/7104 [==============================] - 9s 1ms/step - loss: 0.4915 - acc: 0.8012 - val_loss: 0.4742 - val_acc: 0.8109\n",
      "Epoch 4/20\n",
      "7104/7104 [==============================] - 9s 1ms/step - loss: 0.4192 - acc: 0.8340 - val_loss: 0.4810 - val_acc: 0.8087\n",
      "Epoch 5/20\n",
      "7104/7104 [==============================] - 9s 1ms/step - loss: 0.3492 - acc: 0.8623 - val_loss: 0.5076 - val_acc: 0.7997\n",
      "Epoch 6/20\n",
      "7104/7104 [==============================] - 9s 1ms/step - loss: 0.2963 - acc: 0.8832 - val_loss: 0.5098 - val_acc: 0.8104\n",
      "Epoch 7/20\n",
      "7104/7104 [==============================] - 9s 1ms/step - loss: 0.2612 - acc: 0.9019 - val_loss: 0.5450 - val_acc: 0.8047\n",
      "Epoch 8/20\n",
      "7104/7104 [==============================] - 9s 1ms/step - loss: 0.2332 - acc: 0.9122 - val_loss: 0.5636 - val_acc: 0.7985\n",
      "Epoch 9/20\n",
      "7104/7104 [==============================] - 9s 1ms/step - loss: 0.2166 - acc: 0.9139 - val_loss: 0.6181 - val_acc: 0.7957  - ETA: 3s - loss: 0.2257 - ETA: 2s - loss: 0.2209 - - ETA: 1s -\n",
      "Epoch 10/20\n",
      "7104/7104 [==============================] - 9s 1ms/step - loss: 0.1853 - acc: 0.9298 - val_loss: 0.6180 - val_acc: 0.7946\n",
      "Epoch 11/20\n",
      "7104/7104 [==============================] - 9s 1ms/step - loss: 0.1884 - acc: 0.9286 - val_loss: 0.5816 - val_acc: 0.8025\n",
      "Epoch 12/20\n",
      "7104/7104 [==============================] - 9s 1ms/step - loss: 0.1621 - acc: 0.9386 - val_loss: 0.5962 - val_acc: 0.8098 ETA: 4s  - E\n",
      "Epoch 13/20\n",
      "7104/7104 [==============================] - 8s 1ms/step - loss: 0.1631 - acc: 0.9382 - val_loss: 0.5993 - val_acc: 0.8171- loss: 0.1577 - acc: 0 - ETA: 1s - loss: 0.1614 - acc: 0.9 - ETA: 1s - loss: 0.1611 - acc - ETA: 0s - loss: 0.1628 - acc: 0. - ETA: 0s - loss: 0.1625 - acc: \n",
      "Epoch 14/20\n",
      "7104/7104 [==============================] - 9s 1ms/step - loss: 0.1568 - acc: 0.9434 - val_loss: 0.6084 - val_acc: 0.8137- loss: 0.1547 - acc\n",
      "Epoch 15/20\n",
      "7104/7104 [==============================] - 9s 1ms/step - loss: 0.1463 - acc: 0.9430 - val_loss: 0.5918 - val_acc: 0.8188- - ETA: 0s - loss: 0.1456 - acc:\n",
      "Epoch 16/20\n",
      "7104/7104 [==============================] - 9s 1ms/step - loss: 0.1425 - acc: 0.9448 - val_loss: 0.7347 - val_acc: 0.7895\n",
      "Epoch 17/20\n",
      "7104/7104 [==============================] - 9s 1ms/step - loss: 0.1347 - acc: 0.9459 - val_loss: 0.6906 - val_acc: 0.8104\n",
      "Epoch 18/20\n",
      "7104/7104 [==============================] - 9s 1ms/step - loss: 0.1297 - acc: 0.9500 - val_loss: 0.6734 - val_acc: 0.8042\n",
      "Epoch 19/20\n",
      "7104/7104 [==============================] - 9s 1ms/step - loss: 0.1364 - acc: 0.9454 - val_loss: 0.6862 - val_acc: 0.8008\n",
      "Epoch 20/20\n",
      "7104/7104 [==============================] - 9s 1ms/step - loss: 0.1273 - acc: 0.9488 - val_loss: 0.7280 - val_acc: 0.7963\n",
      "the loss 0.6784045448822784 and the accuracy score for test dataset is 0.8135974786400741\n",
      "Saved model to disk\n"
     ]
    }
   ],
   "source": [
    "if os.path.isfile('wordembed_model.h5'):\n",
    "    model = load_model('wordembed_model.h5')\n",
    "    train_test_model(model, train_data, labels, \"wordembed\")\n",
    "else:\n",
    "    sequence_input = Input(shape=(max_length,embed_dim), dtype='float32')\n",
    "    from keras.layers.advanced_activations import LeakyReLU\n",
    "    filter_sizes = (3,5,5,7)\n",
    "    dropout_prob = [0.5,0.5]\n",
    "    graph_in = sequence_input\n",
    "    convs = []\n",
    "    mul = 1\n",
    "    for filter_s in filter_sizes:\n",
    "        conv = Conv1D(filters=32*mul,\n",
    "                             kernel_size=filter_s,\n",
    "                             padding='valid',\n",
    "                             activation='relu')(graph_in)\n",
    "        pool = MaxPooling1D(max_length-filter_s+1)(conv)\n",
    "        flattenMax = Flatten()(pool)\n",
    "        convs.append(flattenMax)\n",
    "        mul+=1\n",
    "    out = concatenate(convs, axis=1)    \n",
    "    graph = Model(graph_in, out, name=\"word_embed\")\n",
    "    model = Sequential()\n",
    "    model.add(Embedding(input_dim=final_vocab_len, #size of vocabulary\n",
    "                     output_dim = embed_dim,\n",
    "                     input_length = max_length,\n",
    "                     trainable=True))\n",
    "    model.add(Dropout(dropout_prob[0]))\n",
    "    model.add(graph)\n",
    "    model.add(Dense(128, kernel_initializer='uniform'))\n",
    "    model.add(BatchNormalization())\n",
    "    model.add(Dropout(dropout_prob[1]))\n",
    "    #model.add(Activation('relu'))\n",
    "    model.add(LeakyReLU(alpha=.001))\n",
    "    model.add(Dense(3))\n",
    "    #model.add(BatchNormalization())\n",
    "    model.add(Activation('softmax'))\n",
    "    model.summary()\n",
    "    train_test_model(model, train_data, labels, \"wordembed\")"
   ]
  },
  {
   "cell_type": "markdown",
   "metadata": {
    "collapsed": true
   },
   "source": [
    "## word2vec- skip gram model\n",
    "1. given the target of the word predicts the context of the input word"
   ]
  },
  {
   "cell_type": "code",
   "execution_count": 23,
   "metadata": {
    "collapsed": true
   },
   "outputs": [],
   "source": [
    "max_length = 15\n",
    "tokenizer = Tokenizer(filters='!\"#$%&()*+,-./:;<=>?@[\\\\]^_`{|}~')\n",
    "tokenizer.fit_on_texts(tweets_food.tweets_text)\n",
    "sequences = tokenizer.texts_to_sequences(list(tweets_food.tweets_text))\n",
    "word_index = tokenizer.word_index\n",
    "data = pad_sequences(sequences, maxlen=max_length)\n",
    "#vocab size\n",
    "vocab_len = len(tokenizer.word_index) + 1"
   ]
  },
  {
   "cell_type": "code",
   "execution_count": 24,
   "metadata": {
    "collapsed": true
   },
   "outputs": [],
   "source": [
    "embedding_size = 200\n",
    "number_of_epochs = 20\n",
    "num_neg_samples = 4\n",
    "sampling_factor = 1e-1\n",
    "window_size = 4\n",
    "save_path = './tweets_food_model.txt'"
   ]
  },
  {
   "cell_type": "code",
   "execution_count": 25,
   "metadata": {
    "collapsed": true
   },
   "outputs": [],
   "source": [
    "from keras.layers import Activation, Embedding, Merge, Reshape\n",
    "def create_model():\n",
    "    target_word = Sequential()\n",
    "    target_word.add(Embedding(vocab_len, embedding_size, input_length=1))\n",
    "\n",
    "    context = Sequential()\n",
    "    context.add(Embedding(vocab_len, embedding_size, input_length=3))\n",
    "\n",
    "    model = Sequential()\n",
    "    model.add(Merge([target_word, context], mode='dot', dot_axes=2))\n",
    "    model.add(Reshape((1,), input_shape=(1, 1)))\n",
    "    model.add(Activation('sigmoid'))\n",
    "    model.compile(loss='binary_crossentropy', optimizer='adam')\n",
    "    return model"
   ]
  },
  {
   "cell_type": "code",
   "execution_count": 26,
   "metadata": {
    "collapsed": true
   },
   "outputs": [],
   "source": [
    "def train_model(model):\n",
    "    sampling_table = make_sampling_table(vocab_len, sampling_factor=sampling_factor)\n",
    "    for epoch in range(number_of_epochs):\n",
    "        loss = 0.\n",
    "        for i, sentence in enumerate(sequences):\n",
    "            if i % 500 == 0:\n",
    "                print('{}/{}'.format(i, len(sequences)))\n",
    "            couples, labels = skipgrams(sequence=sentence, vocabulary_size=vocab_len, window_size=window_size,\n",
    "                                        negative_samples=num_neg_samples, sampling_table=sampling_table)\n",
    "            if couples:\n",
    "                words, contexts = zip(*couples)\n",
    "                words = np.array(words, dtype=np.int32)\n",
    "                contexts = np.array(contexts, dtype=np.int32)\n",
    "                y = np.array(labels, dtype=np.int32)\n",
    "                loss += model.train_on_batch([words, contexts], y)\n",
    "        print('epoch finished: {} with loss: {}'.format(epoch, loss))\n",
    "\n",
    "    return model"
   ]
  },
  {
   "cell_type": "code",
   "execution_count": 30,
   "metadata": {
    "collapsed": true
   },
   "outputs": [],
   "source": [
    "def save_model(model):\n",
    "    with open(save_path, 'w') as f:\n",
    "        f.write(' '.join([str(vocab_len - 1), str(embedding_size)]))\n",
    "        f.write('\\n')\n",
    "        vectors = model.get_weights()[0]\n",
    "        for word, i in tokenizer.word_index.items():\n",
    "            f.write(word)\n",
    "            f.write(' ')\n",
    "            f.write(' '.join(map(str, list(vectors[0][i, :]))))\n",
    "            f.write('\\n')"
   ]
  },
  {
   "cell_type": "code",
   "execution_count": 21,
   "metadata": {
    "collapsed": true
   },
   "outputs": [],
   "source": [
    "# load embedding as a dict\n",
    "def load_embedding(filename):\n",
    "    file = open(filename,'r')\n",
    "    lines = file.readlines()[1:]\n",
    "    file.close()\n",
    "    # create a map of words to vectors\n",
    "    embedding = dict()\n",
    "    for line in lines:\n",
    "        words = line.split()\n",
    "        # key is string word, value is numpy array for vector\n",
    "        embedding[words[0]] = np.asarray(words[1:], dtype='float32')\n",
    "    return embedding"
   ]
  },
  {
   "cell_type": "code",
   "execution_count": 22,
   "metadata": {
    "collapsed": true
   },
   "outputs": [],
   "source": [
    "# create a weight matrix for the Embedding layer from a loaded embedding\n",
    "def get_weight_matrix(embedding, vocab):\n",
    "    #total vocabulary size plus 0 for unknown words\n",
    "    vocab_size = len(vocab) + 1\n",
    "    #define weight matrix dimensions with all 0\n",
    "    weight_matrix = np.zeros((vocab_size, embedding_size))\n",
    "    #step vocab, store vectors using the Tokenizer's integer mapping\n",
    "    for word, i in vocab.items():\n",
    "        weight_matrix[i] = embedding.get(word)\n",
    "    return weight_matrix"
   ]
  },
  {
   "cell_type": "code",
   "execution_count": 31,
   "metadata": {
    "collapsed": true
   },
   "outputs": [],
   "source": [
    "if os.path.isfile(save_path):\n",
    "    pass\n",
    "else:\n",
    "    model = create_model()\n",
    "    model = train_model(model)\n",
    "    save_model(model)"
   ]
  },
  {
   "cell_type": "code",
   "execution_count": 37,
   "metadata": {
    "collapsed": true
   },
   "outputs": [],
   "source": [
    "# load embedding from file and create the embedding layer\n",
    "raw_embedding = load_embedding('tweets_food_model.txt')\n",
    "embedding_vectors = get_weight_matrix(raw_embedding, tokenizer.word_index)\n",
    "embedding_layer = Embedding(vocab_len, embedding_size, weights=[embedding_vectors], input_length=max_length, trainable=False)"
   ]
  },
  {
   "cell_type": "code",
   "execution_count": 38,
   "metadata": {
    "collapsed": true
   },
   "outputs": [],
   "source": [
    "# define model\n",
    "def defineModel(max_sequence_length, embed_dim, embedding_layer):\n",
    "    sequence_input = Input(shape=(max_sequence_length,embed_dim), dtype='float32')\n",
    "    filter_sizes = (3,5,5,7)\n",
    "    dropout_prob = [0.5,0.5]\n",
    "    convs = []\n",
    "    mul = 1\n",
    "    for filter_s in filter_sizes:\n",
    "        conv = Conv1D(filters=32*mul,\n",
    "                             kernel_size=filter_s,\n",
    "                             padding='valid',\n",
    "                             activation='relu')(sequence_input)\n",
    "        pool = MaxPooling1D(max_length-filter_s)(conv)\n",
    "        flattenMax = Flatten()(pool)\n",
    "        convs.append(flattenMax)\n",
    "        mul+=1\n",
    "    out = concatenate(convs, axis=1)    \n",
    "    graph = Model(sequence_input, out, name=\"word2vec\")\n",
    "    model = Sequential()\n",
    "    model.add(embedding_layer)\n",
    "    model.add(Dropout(dropout_prob[0]))\n",
    "    model.add(graph)\n",
    "    model.add(Dense(128, kernel_initializer='uniform'))\n",
    "    #model.add(BatchNormalization())\n",
    "    model.add(Dropout(0.5))\n",
    "    model.add(LeakyReLU(alpha=.001))\n",
    "    model.add(Dense(3))\n",
    "    model.add(BatchNormalization())\n",
    "    model.add(Activation('softmax'))\n",
    "    return model"
   ]
  },
  {
   "cell_type": "code",
   "execution_count": 39,
   "metadata": {
    "collapsed": false
   },
   "outputs": [
    {
     "name": "stdout",
     "output_type": "stream",
     "text": [
      "Train on 7104 samples, validate on 1777 samples\n",
      "Epoch 1/20\n",
      "7104/7104 [==============================] - 3s 411us/step - loss: 0.2276 - acc: 0.9216 - val_loss: 0.0761 - val_acc: 0.9764\n",
      "Epoch 2/20\n",
      "7104/7104 [==============================] - 3s 361us/step - loss: 0.2104 - acc: 0.9251 - val_loss: 0.0760 - val_acc: 0.9758\n",
      "Epoch 3/20\n",
      "7104/7104 [==============================] - 3s 362us/step - loss: 0.1986 - acc: 0.9329 - val_loss: 0.0797 - val_acc: 0.9736\n",
      "Epoch 4/20\n",
      "7104/7104 [==============================] - 3s 361us/step - loss: 0.1934 - acc: 0.9319 - val_loss: 0.0859 - val_acc: 0.9730\n",
      "Epoch 5/20\n",
      "7104/7104 [==============================] - 3s 359us/step - loss: 0.1804 - acc: 0.9396 - val_loss: 0.0865 - val_acc: 0.9741\n",
      "Epoch 6/20\n",
      "7104/7104 [==============================] - 3s 359us/step - loss: 0.1723 - acc: 0.9407 - val_loss: 0.0927 - val_acc: 0.9679\n",
      "Epoch 7/20\n",
      "7104/7104 [==============================] - 3s 362us/step - loss: 0.1620 - acc: 0.9437 - val_loss: 0.0981 - val_acc: 0.9713\n",
      "Epoch 8/20\n",
      "7104/7104 [==============================] - 3s 362us/step - loss: 0.1693 - acc: 0.9419 - val_loss: 0.1028 - val_acc: 0.9674\n",
      "Epoch 9/20\n",
      "7104/7104 [==============================] - 3s 363us/step - loss: 0.1478 - acc: 0.9475 - val_loss: 0.1068 - val_acc: 0.9685\n",
      "Epoch 10/20\n",
      "7104/7104 [==============================] - 3s 362us/step - loss: 0.1523 - acc: 0.9452 - val_loss: 0.1078 - val_acc: 0.9702\n",
      "Epoch 11/20\n",
      "7104/7104 [==============================] - 3s 362us/step - loss: 0.1551 - acc: 0.9464 - val_loss: 0.1146 - val_acc: 0.9651\n",
      "Epoch 12/20\n",
      "7104/7104 [==============================] - 3s 361us/step - loss: 0.1382 - acc: 0.9520 - val_loss: 0.1160 - val_acc: 0.9634\n",
      "Epoch 13/20\n",
      "7104/7104 [==============================] - 3s 365us/step - loss: 0.1573 - acc: 0.9490 - val_loss: 0.1427 - val_acc: 0.9488\n",
      "Epoch 14/20\n",
      "7104/7104 [==============================] - 3s 363us/step - loss: 0.1397 - acc: 0.9506 - val_loss: 0.1225 - val_acc: 0.9600\n",
      "Epoch 15/20\n",
      "7104/7104 [==============================] - 3s 360us/step - loss: 0.1356 - acc: 0.9540 - val_loss: 0.1154 - val_acc: 0.9645\n",
      "Epoch 16/20\n",
      "7104/7104 [==============================] - 3s 362us/step - loss: 0.1322 - acc: 0.9554 - val_loss: 0.1208 - val_acc: 0.9617\n",
      "Epoch 17/20\n",
      "7104/7104 [==============================] - 3s 362us/step - loss: 0.1310 - acc: 0.9569 - val_loss: 0.1269 - val_acc: 0.9634\n",
      "Epoch 18/20\n",
      "7104/7104 [==============================] - 3s 361us/step - loss: 0.1415 - acc: 0.9510 - val_loss: 0.1300 - val_acc: 0.9589\n",
      "Epoch 19/20\n",
      "7104/7104 [==============================] - 3s 362us/step - loss: 0.1471 - acc: 0.9481 - val_loss: 0.1463 - val_acc: 0.9544\n",
      "Epoch 20/20\n",
      "7104/7104 [==============================] - 3s 362us/step - loss: 0.1390 - acc: 0.9507 - val_loss: 0.1376 - val_acc: 0.9578\n",
      "the loss 0.15450402783151954 and the accuracy score for test dataset is 0.9612787032868078\n",
      "Saved model to disk\n"
     ]
    }
   ],
   "source": [
    "if os.path.isfile('skipgram_model.h5'):\n",
    "    model = load_model('skipgram_model.h5')\n",
    "    train_test_model(model, data, labels,\"skipgram\")\n",
    "else:\n",
    "    model = defineModel(max_length, embedding_size, embedding_layer)\n",
    "    print(model.summary())\n",
    "    train_test_model(model, data, labels, \"skipgram\")"
   ]
  },
  {
   "cell_type": "markdown",
   "metadata": {
    "collapsed": true
   },
   "source": [
    "## Gradient Boosting Classifier with doc2vec model"
   ]
  },
  {
   "cell_type": "code",
   "execution_count": 40,
   "metadata": {
    "collapsed": true
   },
   "outputs": [],
   "source": [
    "tweets_food = tweets_food.reset_index(drop=True)\n",
    "#transform the tweets text into the doc2vec compatible input format\n",
    "def label_sentences(df):\n",
    "    labeled_sentences = []\n",
    "    for index, row in df.iterrows():\n",
    "        #print(index)\n",
    "        tokenized_words = row[\"tweets_text\"].lower().split(\" \")\n",
    "        labeled_sentences.append(LabeledSentence(words=tokenized_words, tags=['label{}'.format(index)]))\n",
    "    return labeled_sentences\n",
    "\n",
    "#trains the doc2vec model\n",
    "def tweets_doc2vec_model(labeled_sentences):\n",
    "    model = Doc2Vec(alpha=0.01, min_alpha=0.01, min_count = 2)\n",
    "    model.build_vocab(labeled_sentences)\n",
    "    for epoch in range(10):\n",
    "        model.train(labeled_sentences)\n",
    "        model.alpha -= 0.002 \n",
    "        model.min_alpha = model.alpha\n",
    "    return model\n",
    "\n",
    "seq = label_sentences(tweets_food)\n",
    "model = tweets_doc2vec_model(seq)"
   ]
  },
  {
   "cell_type": "code",
   "execution_count": 45,
   "metadata": {
    "collapsed": false
   },
   "outputs": [
    {
     "name": "stdout",
     "output_type": "stream",
     "text": [
      "   label_data                                        tweets_text  \\\n",
      "0           2  Note to self don t eat scones before training ...   \n",
      "1           0  I feel like my body is trying to get sick but ...   \n",
      "\n",
      "                                   vectorized_tweets  \n",
      "0  [-0.0965432, 0.08884, -0.0701348, -0.0383165, ...  \n",
      "1  [-0.00250567, -0.090926, 0.0238593, 0.0058652,...  \n"
     ]
    }
   ],
   "source": [
    "def vectorize_tweets(df,d2v_model):\n",
    "    y = []\n",
    "    comments = []\n",
    "    for i in range(0,df.shape[0]):\n",
    "        label = 'label{}'.format(i)\n",
    "        comments.append(d2v_model.docvecs[label])\n",
    "    df['vectorized_tweets'] = comments    \n",
    "    return df\n",
    "\n",
    "def train_classifier(X,y):\n",
    "    n_estimators = [500]\n",
    "    min_samples_split = [4]\n",
    "    min_samples_leaf = [3]\n",
    "\n",
    "    parameters = {'n_estimators': n_estimators, 'min_samples_leaf': min_samples_leaf,\n",
    "                  'min_samples_split': min_samples_split}\n",
    "\n",
    "    clf = GridSearchCV(GradientBoostingClassifier(random_state=7), cv=5, param_grid=parameters)\n",
    "    clf.fit(X, y)\n",
    "    return clf\n",
    "\n",
    "doc2vec_df = vectorize_tweets(tweets_food, model)\n",
    "print (doc2vec_df.head(2))"
   ]
  },
  {
   "cell_type": "code",
   "execution_count": 47,
   "metadata": {
    "collapsed": false
   },
   "outputs": [
    {
     "name": "stdout",
     "output_type": "stream",
     "text": [
      "0.537409919457 is the accuracy score of the best possible model on validation set\n",
      "0.541416566627\n"
     ]
    }
   ],
   "source": [
    "doc2vec_df.label_data = doc2vec_df.label_data.astype('category').cat.codes\n",
    "X_train, X_test, y_train, y_test = train_test_split(doc2vec_df.vectorized_tweets.T.tolist(), doc2vec_df.label_data, test_size=0.15, random_state=17)\n",
    "classifier = train_classifier(X_train,y_train)\n",
    "print (classifier.best_score_, \"is the accuracy score of the best possible model on validation set\")\n",
    "print (classifier.score(X_test,y_test))"
   ]
  },
  {
   "cell_type": "code",
   "execution_count": 51,
   "metadata": {
    "collapsed": true
   },
   "outputs": [],
   "source": []
  }
 ],
 "metadata": {
  "anaconda-cloud": {},
  "kernelspec": {
   "display_name": "Python 3",
   "language": "python",
   "name": "python3"
  },
  "language_info": {
   "codemirror_mode": {
    "name": "ipython",
    "version": 3
   },
   "file_extension": ".py",
   "mimetype": "text/x-python",
   "name": "python",
   "nbconvert_exporter": "python",
   "pygments_lexer": "ipython3",
   "version": "3.5.2"
  }
 },
 "nbformat": 4,
 "nbformat_minor": 2
}
