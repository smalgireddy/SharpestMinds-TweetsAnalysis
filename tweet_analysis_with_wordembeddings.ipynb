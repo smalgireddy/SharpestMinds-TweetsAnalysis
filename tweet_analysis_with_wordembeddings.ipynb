{
 "cells": [
  {
   "cell_type": "code",
   "execution_count": 1,
   "metadata": {},
   "outputs": [
    {
     "name": "stderr",
     "output_type": "stream",
     "text": [
      "Using TensorFlow backend.\n"
     ]
    }
   ],
   "source": [
    "import time\n",
    "import numpy as np\n",
    "import tensorflow as tf\n",
    "import re\n",
    "import os\n",
    "import numpy as np\n",
    "import pandas as pd\n",
    "import matplotlib.pyplot as plt\n",
    "import json\n",
    "from string import punctuation\n",
    "import collections, operator\n",
    "from matplotlib import pyplot\n",
    "import nltk\n",
    "from nltk.corpus import stopwords\n",
    "from nltk.tokenize import word_tokenize, sent_tokenize\n",
    "#scikit-learn package\n",
    "from sklearn.preprocessing import OneHotEncoder, LabelEncoder\n",
    "from sklearn.model_selection import train_test_split\n",
    "from sklearn.model_selection import GridSearchCV\n",
    "from sklearn.ensemble import GradientBoostingClassifier\n",
    "#keras\n",
    "from __future__ import print_function\n",
    "from keras.preprocessing import sequence\n",
    "from keras.models import Sequential, Model, save_model, load_model\n",
    "from keras.layers import Dense, Dropout, Activation\n",
    "from keras.layers import Conv1D, MaxPooling1D, Embedding, Dropout, Conv2D, MaxPooling2D, Reshape, merge, BatchNormalization, concatenate\n",
    "from keras import backend as K\n",
    "from keras.layers import Input, Flatten, Lambda\n",
    "from keras.preprocessing.text import Tokenizer\n",
    "from keras.preprocessing.sequence import pad_sequences, skipgrams, make_sampling_table\n",
    "from keras.utils import np_utils\n",
    "from keras.preprocessing.text import text_to_word_sequence\n",
    "from keras.utils.vis_utils import model_to_dot\n",
    "from keras.utils.data_utils import get_file\n",
    "from keras.callbacks import EarlyStopping, ModelCheckpoint\n",
    "#gensim\n",
    "import gensim\n",
    "from gensim.models import word2vec, Phrases, word2vec\n",
    "from gensim.parsing.preprocessing import STOPWORDS\n",
    "from gensim.models.doc2vec import LabeledSentence\n",
    "from gensim.models import Doc2Vec\n",
    "from IPython.display import Image, display, SVG"
   ]
  },
  {
   "cell_type": "markdown",
   "metadata": {},
   "source": [
    "## tweets data pre-processing step\n",
    "1. Loading the data from json files into dataframes\n",
    "2. Filtering the data with tweets text\n",
    "3. Seperating the data frames based on the tweets type\n",
    "4. finally 3 data frames with the following labels\n",
    "    * tweets_food\n",
    "        * Labels : healthy, junk, unhealthy\n",
    "    * tweets_borne\n",
    "        * Labels : relevant, irrelevant\n",
    "    * tweets_exercise\n",
    "        * Labels : relevant, irrelevant"
   ]
  },
  {
   "cell_type": "markdown",
   "metadata": {},
   "source": [
    "## code snippet:\n",
    "* In the following block, I am  loading the data from classified_tweets_latest json file into pandas dataframe, and filtering out the tweet 'text' value from each json data point\n",
    "* Removing the tweet observations if they have 'None' or empty values in their corresponding column values\n",
    "* Printing the final data frame shape (after removing NA values)"
   ]
  },
  {
   "cell_type": "code",
   "execution_count": 2,
   "metadata": {},
   "outputs": [
    {
     "name": "stdout",
     "output_type": "stream",
     "text": [
      "(7294, 16)\n"
     ]
    }
   ],
   "source": [
    "#preparing the data\n",
    "#json reading using pandas\n",
    "tweets_pd = pd.read_json('classified_tweets_latest.json', orient='columns')\n",
    "tweets_pd.head()\n",
    "tweets_text = (tweets_pd['tweet'].apply(lambda tweet : eval(tweet))).apply(lambda tweet : tweet['text'])\n",
    "tweets_pd = tweets_pd.assign(tweets_text = tweets_text)\n",
    "#tweets_pd.label_data.value_counts()\n",
    "#missing values checking for label_data\n",
    "tweets_pd = tweets_pd.loc[tweets_pd['food'] != 'None']\n",
    "tweets_pd = tweets_pd.loc[tweets_pd['label_data'] != '']\n",
    "print(tweets_pd.shape)"
   ]
  },
  {
   "cell_type": "markdown",
   "metadata": {},
   "source": [
    "## code snippet:\n",
    "* the following method removes the numeric values, smileys, any special characters other than the below mentioned values from the tweets text column values.\n",
    "* then, divides the dataframe into 3 categories based on the context food, borne and exercise column values"
   ]
  },
  {
   "cell_type": "code",
   "execution_count": 3,
   "metadata": {
    "collapsed": true
   },
   "outputs": [],
   "source": [
    "def preprocess_data(df):\n",
    "    df['label_data'] = df.label_data.str.lower()\n",
    "    df['tweets_text'] = df.tweets_text.apply(lambda x: ' '.join(re.sub(r\"([!@#$]+)|([^A-Za-z .*\\t])|(\\w+:\\/\\/\\S+)\",' ',x).split()))\n",
    "    #after removing special characters, we left with plain data with alphanumeric characters\n",
    "    #seperate the data based on their class\n",
    "    df_food = df.loc[df.food == '1']\n",
    "    df_borne = df.loc[df.borne == '1']\n",
    "    df_exercies = df.loc[df.exercise == '1']\n",
    "    return [df_food, df_borne, df_exercies]"
   ]
  },
  {
   "cell_type": "code",
   "execution_count": 4,
   "metadata": {},
   "outputs": [
    {
     "name": "stdout",
     "output_type": "stream",
     "text": [
      "tweets with food dataframe shape is (7294, 16)\n",
      "tweets with borne dataframe shape is (470, 16)\n",
      "tweets with exercises dataframe shape is (2201, 16)\n"
     ]
    }
   ],
   "source": [
    "#after removing special characters, we left with plain data with alphanumeric characters\n",
    "#seperate the data based on their class\n",
    "tweets_pd_food,tweets_pd_borne,tweets_pd_exercies =  preprocess_data(tweets_pd)\n",
    "print(\"tweets with food dataframe shape is {}\".format(tweets_pd_food.shape))\n",
    "print(\"tweets with borne dataframe shape is {}\".format(tweets_pd_borne.shape))\n",
    "print(\"tweets with exercises dataframe shape is {}\".format(tweets_pd_exercies.shape))"
   ]
  },
  {
   "cell_type": "markdown",
   "metadata": {},
   "source": [
    "## code snippet:\n",
    "* loading the data from the remaining json files into data frames <br>\n",
    "* merging the loaded json files into single dataframe.<br>\n",
    "** NOTE: the reason for seperate loading of classified_tweets-json file and the below files is the json schema of these files are different **"
   ]
  },
  {
   "cell_type": "code",
   "execution_count": 5,
   "metadata": {
    "collapsed": true
   },
   "outputs": [],
   "source": [
    "pd_792017 = pd.read_json('07292017.json', orient='columns')\n",
    "pd_8022017 = pd.read_json('08022017.json', orient='columns')\n",
    "pd_8072017 = pd.read_json('08072017.json', orient='columns')\n",
    "pd_8082017 = pd.read_json('08082017.json', orient='columns')\n",
    "pd_8242017 = pd.read_json('08242017.json', orient='columns')\n",
    "tweets_data = pd.concat([pd_792017, pd_8022017, pd_8072017, pd_8082017, pd_8242017], ignore_index=True)"
   ]
  },
  {
   "cell_type": "markdown",
   "metadata": {},
   "source": [
    "## code snippet:\n",
    "* creating new column with tweet_data_text name with the tweets text\n",
    "* changing the labels into categorical numeric type\n",
    "* checking for label_data feature's NA or empty values, if exist removing those observations\n"
   ]
  },
  {
   "cell_type": "code",
   "execution_count": 6,
   "metadata": {},
   "outputs": [
    {
     "name": "stdout",
     "output_type": "stream",
     "text": [
      "(28246, 10)\n",
      "data with labels 26922\n",
      "removing data without labels\n",
      "after removing the shape of the data is(26922, 10)\n"
     ]
    }
   ],
   "source": [
    "tweets_data_text = (tweets_data.tweet.apply(lambda tweet: eval(tweet))).apply(lambda text: text['text'])\n",
    "#data with 9 columns\n",
    "tweets_data = tweets_data.assign(tweets_data_text = tweets_data_text)\n",
    "#tweets_data_text.head()\n",
    "#change the labels into category codes\n",
    "tweets_data.food = tweets_data.food.astype(\"category\")\n",
    "print(tweets_data.shape)\n",
    "#remove the tweets without label_data\n",
    "print(\"data with labels {}\".format(sum(tweets_data['label_data'] != '')))\n",
    "print(\"removing data without labels\")\n",
    "#missing values checking for label_data\n",
    "tweets_data = tweets_data.loc[tweets_data['label_data'] != '']\n",
    "print(\"after removing the shape of the data is{}\".format(tweets_data.shape))"
   ]
  },
  {
   "cell_type": "markdown",
   "metadata": {},
   "source": [
    "## code snippet:\n",
    "*  the following block removes the numeric values, URLS, smileys, any special characters from the tweets text\n",
    "* creates 3 new dataaframes with food, borne, exercies filters"
   ]
  },
  {
   "cell_type": "code",
   "execution_count": 7,
   "metadata": {},
   "outputs": [
    {
     "name": "stdout",
     "output_type": "stream",
     "text": [
      "0    RT @_skull_queen_: So..... has anyone ever act...\n",
      "1    RT @_skull_queen_: So..... has anyone ever act...\n",
      "2    RT @_skull_queen_: So..... has anyone ever act...\n",
      "3    RT @_skull_queen_: So..... has anyone ever act...\n",
      "4    RT @_skull_queen_: So..... has anyone ever act...\n",
      "Name: tweets_data_text, dtype: object\n"
     ]
    }
   ],
   "source": [
    "tweets_data['label_data'] = tweets_data.label_data.str.lower()\n",
    "tweets_data['tweets_text'] = tweets_data.tweets_data_text.apply(lambda x: ' '.join(re.sub(r\"([!@#$]+)|([^A-Za-z .*\\t])|(\\w+:\\/\\/\\S+)\",' ',x).split()))\n",
    "print(tweets_data.tweets_data_text.head())\n",
    "#after removing special characters, we left with plain data with alphanumeric characters\n",
    "#seperate the data based on their class\n",
    "tweets_data_food = tweets_data.loc[tweets_data.food == 1]\n",
    "tweets_data_borne = tweets_data.loc[tweets_data.borne == 1]\n",
    "tweets_data_exercies = tweets_data.loc[tweets_data.exercise == 1]"
   ]
  },
  {
   "cell_type": "markdown",
   "metadata": {},
   "source": [
    "## code snippet:\n",
    "* the following block reassigns the 3 dataframes with only two column values i.e. 'label_data', 'tweets_text' by selecting them from the original datafrmae, since we are going to use these two features only for furthur processing and classififer models.\n",
    "* after reassigning, concatenate the corresponding contextual labeled data frmaes as they have same schema representation.<br>\n",
    "    * tweets_data_food, tweets_pd_food <br>\n",
    "    * tweets_data_borne, tweets_pd_borne <br>\n",
    "    * tweets_data_exercies, tweets_pd_exercies<br>"
   ]
  },
  {
   "cell_type": "code",
   "execution_count": 8,
   "metadata": {},
   "outputs": [
    {
     "name": "stdout",
     "output_type": "stream",
     "text": [
      "tweets with food dataframe shape is (19504, 2)\n",
      "tweets with borne dataframe shape is (16550, 2)\n",
      "tweets with exercises dataframe shape is (2469, 2)\n"
     ]
    }
   ],
   "source": [
    "tweets_data_food = tweets_data_food[['label_data','tweets_text']]\n",
    "tweets_data_borne = tweets_data_borne[['label_data','tweets_text']]\n",
    "tweets_data_exercies = tweets_data_exercies[['label_data','tweets_text']]\n",
    "tweets_pd_food = tweets_pd_food[['label_data','tweets_text']]\n",
    "tweets_pd_borne = tweets_pd_borne[['label_data','tweets_text']]\n",
    "tweets_pd_exercies = tweets_pd_exercies[['label_data','tweets_text']]\n",
    "tweets_food = pd.concat([tweets_data_food, tweets_pd_food])\n",
    "tweets_borne = pd.concat([tweets_data_borne, tweets_pd_borne])\n",
    "tweets_exercies = pd.concat([tweets_data_exercies, tweets_pd_exercies])\n",
    "print(\"tweets with food dataframe shape is {}\".format(tweets_food.shape))\n",
    "print(\"tweets with borne dataframe shape is {}\".format(tweets_borne.shape))\n",
    "print(\"tweets with exercises dataframe shape is {}\".format(tweets_exercies.shape))"
   ]
  },
  {
   "cell_type": "markdown",
   "metadata": {},
   "source": [
    "## code snippet:\n",
    "* After seperating the data into different dataframes as show above, I found few irregularities in the label_data colum values across 3 data frames. i.e. even though the dataset is of food tweets, it has values of relevant, irrelevant in their label_data column which are of the borne, exercise tweets. and food_tweets should have only 3 labels(healthy, unhealthy, and junk) for food dataset. So I removed such patterns across 3 datasets."
   ]
  },
  {
   "cell_type": "code",
   "execution_count": 9,
   "metadata": {
    "collapsed": true
   },
   "outputs": [],
   "source": [
    "#'healthy','unhealthy','junk','relevant','irrelevant'\n",
    "food_labels = ['healthy','unhealthy','junk']\n",
    "borne_labels = exercise_labels = ['junk','relevant','irrelevant']\n",
    "tweets_food = tweets_food.loc[tweets_food.label_data.isin(food_labels)]\n",
    "tweets_borne = tweets_borne.loc[tweets_borne.label_data.isin(borne_labels)]\n",
    "tweets_exercies = tweets_exercies.loc[tweets_exercies.label_data.isin(exercise_labels)]\n",
    "\n",
    "#tweets_data_food.label_data.value_counts()"
   ]
  },
  {
   "cell_type": "markdown",
   "metadata": {},
   "source": [
    "## code snippet:\n",
    "* this block checks for any redundant observatuions and make sures that there will be no duplicates in the dataframe."
   ]
  },
  {
   "cell_type": "code",
   "execution_count": 10,
   "metadata": {},
   "outputs": [
    {
     "name": "stdout",
     "output_type": "stream",
     "text": [
      "before removing(17894, 2)\n",
      "after removing(11102, 2)\n",
      "before removing(15505, 2)\n",
      "after removing(7071, 2)\n",
      "before removing(2447, 2)\n",
      "after removing(2049, 2)\n"
     ]
    }
   ],
   "source": [
    "#i find few duplicate rows, so deleting the duplicate rows\n",
    "tweets_food = tweets_food.reset_index(drop=True)\n",
    "print(\"before removing{}\".format(tweets_food.shape))\n",
    "tweets_food = tweets_food.drop_duplicates()\n",
    "print(\"after removing{}\".format(tweets_food.shape))\n",
    "print(\"before removing{}\".format(tweets_borne.shape))\n",
    "tweets_borne = tweets_borne.drop_duplicates()\n",
    "print(\"after removing{}\".format(tweets_borne.shape))\n",
    "print(\"before removing{}\".format(tweets_exercies.shape))\n",
    "tweets_exercies = tweets_exercies.drop_duplicates()\n",
    "print(\"after removing{}\".format(tweets_exercies.shape))"
   ]
  },
  {
   "cell_type": "markdown",
   "metadata": {},
   "source": [
    "## coe snippet:\n",
    "* the following 3 blocks of code show the distribution of labels in their corresponding datasets.\n",
    "    * tweets_food: healthy, unhealthy, junk\n",
    "    * tweets_borne: relevant, ireelevant, junk\n",
    "    * tweets_exercises: relevant, ireelevant, junk\n",
    "    "
   ]
  },
  {
   "cell_type": "code",
   "execution_count": 11,
   "metadata": {},
   "outputs": [
    {
     "data": {
      "image/png": "iVBORw0KGgoAAAANSUhEUgAAAYAAAAD+CAYAAAAzmNK6AAAABHNCSVQICAgIfAhkiAAAAAlwSFlzAAALEgAACxIB0t1+/AAAADl0RVh0U29mdHdhcmUAbWF0cGxvdGxpYiB2ZXJzaW9uIDIuMS4wLCBodHRwOi8vbWF0cGxvdGxpYi5vcmcvpW3flQAAE4lJREFUeJzt3X+0ZlV93/H3hxl+icgPGQmZoQ4RUkRTfzAikaRSSQFBC7VRyEp0VFbHpLTVNmsRNIk0KKv4jxjbakoLEawtYWkNVGkpQa11JYJD/JGCpYwIYQg/BmYYfv8avv1j78s8jDPce/HOvTD7/VrrrnvOPvuc5zx3P8/+nHP2eZ6bqkKSNJ6dFnoHJEkLwwCQpEEZAJI0KANAkgZlAEjSoAwASRqUASBJgzIAJGlQBoAkDWrxQu/As9lvv/1q+fLlC70bkvSCct11191TVUumq/e8DoDly5ezevXqhd4NSXpBSXLrTOp5CUiSBmUASNKgDABJGpQBIEmDMgAkaVAGgCQNygCQpEEZAJI0qOf1B8Hm2/Izv7rQu7Bd3XLuiQu9C5KeRzwDkKRBGQCSNCgDQJIGZQBI0qAMAEkalAEgSYMyACRpUAaAJA3KAJCkQRkAkjQoA0CSBmUASNKgDABJGpQBIEmDMgAkaVAGgCQNygCQpEEZAJI0KANAkgZlAEjSoAwASRqUASBJgzIAJGlQBoAkDcoAkKRBLZ5pxSSLgNXA7VX1tiQHAZcALwWuA95dVY8n2RW4GDgcuBc4papu6dv4MHAasAn451V15Vw+GY1t+ZlfXehd2K5uOffEhd4F7WBmcwbwQeCHE/OfAM6rqoOBDbSOnf57Qy8/r9cjyWHAqcCrgOOBz/RQkSQtgBkFQJJlwInAf+zzAd4CfLFXuQg4uU+f1Ofpy4/p9U8CLqmqx6rqx8Aa4Ii5eBKSpNmb6RnAp4AzgKf6/EuB+6rqyT6/Fljap5cCtwH05Rt7/afLt7LO05KsSrI6yep169bN4qlIkmZj2gBI8jbg7qq6bh72h6o6v6pWVNWKJUuWzMdDStKQZjIIfBTwD5KcAOwGvAT4Q2DvJIv7Uf4y4PZe/3bgQGBtksXAXrTB4KnyKZPrSJLm2bRnAFX14apaVlXLaYO4X6uqXwe+Dvxqr7YSuKxPX97n6cu/VlXVy09Nsmu/g+gQ4No5eyaSpFmZ8W2gW/E7wCVJPg58F7igl18AfD7JGmA9LTSoquuTXArcADwJnF5Vm36Kx5ck/RRmFQBV9Q3gG336ZrZyF09VPQq8cxvrnwOcM9udlCTNPT8JLEmDMgAkaVAGgCQNygCQpEEZAJI0KANAkgZlAEjSoAwASRqUASBJgzIAJGlQBoAkDcoAkKRBGQCSNCgDQJIGZQBI0qAMAEkalAEgSYMyACRpUAaAJA3KAJCkQRkAkjQoA0CSBmUASNKgDABJGpQBIEmDMgAkaVAGgCQNygCQpEEZAJI0KANAkgZlAEjSoAwASRqUASBJgzIAJGlQBoAkDWraAEiyW5Jrk3w/yfVJ/qCXH5TkmiRrkvxJkl16+a59fk1fvnxiWx/u5TcmOW57PSlJ0vRmcgbwGPCWqnoN8Frg+CRHAp8Azquqg4ENwGm9/mnAhl5+Xq9HksOAU4FXAccDn0myaC6fjCRp5qYNgGoe7LM7958C3gJ8sZdfBJzcp0/q8/TlxyRJL7+kqh6rqh8Da4Aj5uRZSJJmbUZjAEkWJfkecDdwFfAj4L6qerJXWQss7dNLgdsA+vKNwEsny7eyzuRjrUqyOsnqdevWzf4ZSZJmZEYBUFWbquq1wDLaUfuh22uHqur8qlpRVSuWLFmyvR5GkoY3q7uAquo+4OvALwJ7J1ncFy0Dbu/TtwMHAvTlewH3TpZvZR1J0jybyV1AS5Ls3ad3B/4+8ENaEPxqr7YSuKxPX97n6cu/VlXVy0/tdwkdBBwCXDtXT0SSNDuLp6/CAcBF/Y6dnYBLq+orSW4ALknyceC7wAW9/gXA55OsAdbT7vyhqq5PcilwA/AkcHpVbZrbpyNJmqlpA6CqfgC8bivlN7OVu3iq6lHgndvY1jnAObPfTUnSXPOTwJI0KANAkgZlAEjSoAwASRqUASBJgzIAJGlQBoAkDcoAkKRBGQCSNCgDQJIGZQBI0qAMAEkalAEgSYMyACRpUAaAJA3KAJCkQRkAkjQoA0CSBmUASNKgDABJGpQBIEmDWrzQOyBJy8/86kLvwnZ1y7knLvQubJVnAJI0KANAkgZlAEjSoAwASRqUASBJgzIAJGlQBoAkDcoAkKRBGQCSNCgDQJIGZQBI0qAMAEkalAEgSYMyACRpUNMGQJIDk3w9yQ1Jrk/ywV6+b5KrktzUf+/Ty5Pk00nWJPlBktdPbGtlr39TkpXb72lJkqYzkzOAJ4HfrqrDgCOB05McBpwJXF1VhwBX93mAtwKH9J9VwGehBQZwFvBG4AjgrKnQkCTNv2kDoKruqKq/7NMPAD8ElgInARf1ahcBJ/fpk4CLq/k2sHeSA4DjgKuqan1VbQCuAo6f02cjSZqxWY0BJFkOvA64Bti/qu7oi+4E9u/TS4HbJlZb28u2Vb7lY6xKsjrJ6nXr1s1m9yRJszDjAEjyYuBLwIeq6v7JZVVVQM3FDlXV+VW1oqpWLFmyZC42KUnaihkFQJKdaZ3/F6rqv/biu/qlHfrvu3v57cCBE6sv62XbKpckLYCZ3AUU4ALgh1X1yYlFlwNTd/KsBC6bKH9PvxvoSGBjv1R0JXBskn364O+xvUyStAAWz6DOUcC7gb9K8r1e9hHgXODSJKcBtwLv6suuAE4A1gAPA+8DqKr1ST4GfKfXO7uq1s/Js5Akzdq0AVBV3wKyjcXHbKV+AadvY1sXAhfOZgclSduHnwSWpEEZAJI0KANAkgZlAEjSoAwASRqUASBJgzIAJGlQBoAkDcoAkKRBGQCSNCgDQJIGZQBI0qAMAEkalAEgSYMyACRpUAaAJA3KAJCkQRkAkjQoA0CSBmUASNKgDABJGpQBIEmDMgAkaVAGgCQNygCQpEEZAJI0KANAkgZlAEjSoAwASRqUASBJgzIAJGlQBoAkDcoAkKRBGQCSNCgDQJIGZQBI0qCmDYAkFya5O8n/mSjbN8lVSW7qv/fp5Uny6SRrkvwgyesn1lnZ69+UZOX2eTqSpJmayRnA54Djtyg7E7i6qg4Bru7zAG8FDuk/q4DPQgsM4CzgjcARwFlToSFJWhjTBkBVfRNYv0XxScBFffoi4OSJ8our+Tawd5IDgOOAq6pqfVVtAK7iJ0NFkjSPnusYwP5VdUefvhPYv08vBW6bqLe2l22r/CckWZVkdZLV69ate467J0mazk89CFxVBdQc7MvU9s6vqhVVtWLJkiVztVlJ0haeawDc1S/t0H/f3ctvBw6cqLesl22rXJK0QJ5rAFwOTN3JsxK4bKL8Pf1uoCOBjf1S0ZXAsUn26YO/x/YySdICWTxdhST/BTga2C/JWtrdPOcClyY5DbgVeFevfgVwArAGeBh4H0BVrU/yMeA7vd7ZVbXlwLIkaR5NGwBV9WvbWHTMVuoWcPo2tnMhcOGs9k6StN34SWBJGpQBIEmDMgAkaVAGgCQNygCQpEEZAJI0KANAkgZlAEjSoAwASRqUASBJgzIAJGlQBoAkDcoAkKRBGQCSNCgDQJIGZQBI0qAMAEkalAEgSYMyACRpUAaAJA3KAJCkQRkAkjQoA0CSBmUASNKgDABJGpQBIEmDMgAkaVAGgCQNygCQpEEZAJI0KANAkgZlAEjSoAwASRqUASBJgzIAJGlQ8x4ASY5PcmOSNUnOnO/HlyQ18xoASRYB/w54K3AY8GtJDpvPfZAkNfN9BnAEsKaqbq6qx4FLgJPmeR8kScDieX68pcBtE/NrgTdOVkiyCljVZx9McuM87dtC2A+4Z74eLJ+Yr0cahu33wrWjt93LZ1JpvgNgWlV1PnD+Qu/HfEiyuqpWLPR+6Lmx/V64bLtmvi8B3Q4cODG/rJdJkubZfAfAd4BDkhyUZBfgVODyed4HSRLzfAmoqp5M8k+BK4FFwIVVdf187sPzzBCXunZgtt8Ll20HpKoWeh8kSQvATwJL0qAMAEkalAHwApQk05UlsW3nSZqdp/7mSQ5OcmiSRUl2mmqbXi+T6y3UPu/Ikrw4yZ5bKZ9sh536z6L+DQUkOTrJ2UkOne99Xih2Egtsixfj1Av0V5K8O8muSd6Q5DUT9f8U+OCW26mJwZwkqaqnpqbn4Wm8oCRZ3O9C22pw9k4hWynbaaKT/4Ukn0nyBuDngROAXfsqHwA+UFWbquqpqqokO1U39bjlANycmjjo+RfAOybKA5vfI70Znuo/m6pqU6+6M7AP8KK+3i5JdmUHZgDMUp5p0USH8LeS/FaS1/b5Gd1htcWLcapDOBj45ap6DDgOOGZilQdoL1KSLJ860knyqiSHTG0zyduSnGAns1UXAL8JmzuFiU5iqlOorZQ9NRWswFSnEeBVwD8C3tyPJtcCi/oXH34kyfFV9VSStyd539TjJnlPP+J83n0g84Voom0+DlySZL8kL+t/6wOSvKl36kcm+WdJfjPJFUne39d7iNaem5K8DPhPwPtgxz2Q8oU3S1t0qJsmpvcG3gBc3+s9ObleD4q9gN2A+6vqoSQvBQ4HXgE8DlxVVX8NbATWJzkK+CVgRZKVtCP/7wO/0V+gbwf+GPh92gv1JcCq/mJ9O/Bj4AqPNn/CemDv3lm/Eri9qjYkORj4e7SA/XZVfTPJvrS/7XG0W5c/V1Wfp7X9I7SwPhT4h8AK4Ny+/XcADwP7Aq9Pci9wL3Bykhur6s+Bvw3s3G+P3mmiA9NzMPE6/xjwJuArtPflR2nvs3fTzg5eA5wJnAFcARyd5CbgblqbvRr4x8C3quqPduS28QzgWfQj/F379O5JfjbJq5Mc3i/T/F6SE3v1R4G7gPck+R9JvpTk8L7uEuBf0z7/cAnw3r7OzwBH0TsJ4JRefj+wJ3Ar8BfA/wLeXFXfAPYAdqqq36J1VkuTvBn4I+CRJK+nvdirP9aWoSVYRwvIC4E/Bf5Jkp8BTgb273WOTfIWYAPwv2kdwu8Dr+zld9EOoO4Dvgx8Dji6qi4GHuzb+OOqWkU7KFjZO/2baSHwIlobX93r2kZz52+AJ2iBO9Vxr6e15SJa262pqi9U1b+lHSj9EnAncBDwEeDmqvp0ksU7aucPBsB0zgGmvsbpdbQj8LOBP6QdES4F3pvkGNpXWhxM66B/A/gR8KG+7im0I70jgA8Dv5jklP4huItpHfxDtE7nYNoLdw9a53IT8ERV3de39SCbv1Dv0f64r6yqNX36ZOBngb2r6pY4GLw1ewCbqmol8E7aF4N9lHYd/y+BW4CjaZ120Tr63wXOoh3pH0o7+n+yb+sxWme+tG//CVpb3NHn76CFPbQzuEXArwPLqupKz9Dm3Ebakf+jtPahTwfYvU8/Du06Py0c9qW15z20993hSXbb8kx+R2Pn8Ow2ALv06QdpR+Z30Droi/tR+PeAd1TVQ73+d6vqHlqnTpKX077/6P1J/hz4NO3FuS7JgbTrle+ndUIP9LoP0NpmT9op6V4T+zQVDtA6nieAF/f5b9POJN5KO3PQ1t1JOxKH1hHcSfv7H0w7I3sT8N+BT/X2+wBwLS28vwwc1MdnnqANGD5Ma6/H+zbvpw0I79znH2DzAPFf0MLh94C/6mU75PXlBbSR9vd+hNau0NrqFbR22ki7FAvtUt7Dff5JWjh8hvb+vTzJHuzAHAN4dg/SOmFone1TtEBYx+YvsbsT+IU+fQ+bT/8fpJ3Wv7iXf7Kqzp7ceJL3AodU1YokewH/mdZpPNyr7MIzQwja0cpL+vSmvk9TAbGadgR7GvA78IyBMW022QE8RHsfLAa+X1W/O1mxX147rJ8tkOQPgP/bFz9Oa9+NtM7ml5Oso3U2S9jcbk8APwdQVfcmubav+5VeZhvNgYmzqI20UP0RbfzlcOBXgOW08Z1H6e1Be48W7cDrCfrBVVWd38eILgWmLvPucAyAZ3cf7Wgd2ovjAFrHvh+b39wP0G8bo4XEbhPlu9OO2G8EPprk39OOTA6k3SlyE/BUklNo/yzn5bSO44b++2XAD4C1SW6hXWf+0sTjPd638yKAqnq4dy5/t6ru35EHr35KD7A5RJ+gtdONwB5JPkkbezmAdkZ1FXBdkmtol94e55mXevbsA8hfpQ0+vhr4N8Cf0ToagGv6sil3A49U1Xdso+1iA61drk/yRdpZ9vdol2/voY0BnAEtfJN8GfizPv3btDCnqj4LfHYhnsB8MQCe3a3AzyV5Ce3OgSNolwL2Z3MAPEa7dACtI969Tz9KO9rYk3ak9xLgf9I6jb+m3YVwDe2WxLfTrg3/S1qHfhdtwPH/9Y78Q7Qjk/VV9TDtGjRV9QAtFKb+3eaxtPGGT/Xldixbdz+t3WDzmMpa4Fu0M6dltI7i5n631r8C/g5tcPFv6Hd/VdXTnXpVXc4zv9n27IlltwK3JtkZeBdtLOm8vsw2mnv70M7Sn9FGW/jC1ERVTd2hNfWeGoZfBvcs+p0aH6LdPvZ92vXbR2gDRv+hn84vA46qqj9J8gra4OItvUPeE9i4PQf4pgYQk+xGG6jctarO2F6Pp22bGnDvR5KLJj5gxNSRfpJX0s4gvlnt36JqDiX5eeAy4Iyq+m+9TUK/y6o2f0DyGe0zKgNgnvV79Cc/qfuMFyj9s2HeGTJ/Jj7wVT24pzz94TzbQzsiA2AGpjptNnfST3fgfblHE5JecAwASRqUnwOQpEEZAJI0KANAkgZlAEjSoAwASRrU/wf04c5Yfm5qqAAAAABJRU5ErkJggg==\n",
      "text/plain": [
       "<matplotlib.figure.Figure at 0x7f6e205188d0>"
      ]
     },
     "metadata": {},
     "output_type": "display_data"
    }
   ],
   "source": [
    "food_label_count = tweets_food.label_data.value_counts()\n",
    "food_label_count.plot(kind = 'bar', rot=3)\n",
    "plt.show()"
   ]
  },
  {
   "cell_type": "code",
   "execution_count": 12,
   "metadata": {},
   "outputs": [
    {
     "data": {
      "image/png": "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\n",
      "text/plain": [
       "<matplotlib.figure.Figure at 0x7f6e2057c940>"
      ]
     },
     "metadata": {},
     "output_type": "display_data"
    }
   ],
   "source": [
    "borne_label_count = tweets_borne.label_data.value_counts()\n",
    "borne_label_count.plot(kind = 'bar', rot=3)\n",
    "plt.show()"
   ]
  },
  {
   "cell_type": "code",
   "execution_count": 13,
   "metadata": {},
   "outputs": [
    {
     "data": {
      "image/png": "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\n",
      "text/plain": [
       "<matplotlib.figure.Figure at 0x7f6e2fe68b00>"
      ]
     },
     "metadata": {},
     "output_type": "display_data"
    }
   ],
   "source": [
    "exercies_label_count = tweets_exercies.label_data.value_counts()\n",
    "exercies_label_count.plot(kind = 'bar', rot=3)\n",
    "plt.show()"
   ]
  },
  {
   "cell_type": "markdown",
   "metadata": {},
   "source": [
    "* from above bar-charts we could see that larger amount of junk and irrelevant labeled tweeets in exercise and borne tweets, and also it doesn't make any sense to have junk and irrelevant labels as both are in negtive context. So i changed junk labeled tweets to irrelevant labeled one in borne and exercises tweets.\n",
    "* In food contextual tweets, we could see somewhat unbiased distribution in the tweet labeles."
   ]
  },
  {
   "cell_type": "code",
   "execution_count": 14,
   "metadata": {
    "collapsed": true
   },
   "outputs": [],
   "source": [
    "tweets_borne.label_data = tweets_borne.label_data.apply(lambda x : \"irrelevant\" if x == \"junk\" else x)\n",
    "tweets_exercies.label_data = tweets_exercies.label_data.apply(lambda x : \"irrelevant\" if x == \"junk\" else x)"
   ]
  },
  {
   "cell_type": "markdown",
   "metadata": {},
   "source": [
    "## feature Engineering:\n",
    "1. tweets text tokenization\n",
    "2. tweets label conversion (one-hot encoding representation)"
   ]
  },
  {
   "cell_type": "markdown",
   "metadata": {},
   "source": [
    "### code snippet:\n",
    "* the following block tokenize the tweet text into array of words\n",
    "* tokenizeData method accepts pandas Series object as input and return the list of array of words"
   ]
  },
  {
   "cell_type": "code",
   "execution_count": 15,
   "metadata": {
    "collapsed": true
   },
   "outputs": [],
   "source": [
    "#since I am using skip-gram model I am not removing stop words\n",
    "#tokenize text into array of words\n",
    "stemmer=nltk.stem.SnowballStemmer('english')\n",
    "def tokenizeData(pdSeries):\n",
    "    #corpus = pdSeries.apply(lambda x: x.replace(\"\\n\",\"\").split())\n",
    "    corpus = [z.lower().replace('\\n','').split() for z in pdSeries]\n",
    "    return corpus"
   ]
  },
  {
   "cell_type": "code",
   "execution_count": 16,
   "metadata": {},
   "outputs": [
    {
     "data": {
      "text/html": [
       "<div>\n",
       "<style>\n",
       "    .dataframe thead tr:only-child th {\n",
       "        text-align: right;\n",
       "    }\n",
       "\n",
       "    .dataframe thead th {\n",
       "        text-align: left;\n",
       "    }\n",
       "\n",
       "    .dataframe tbody tr th {\n",
       "        vertical-align: top;\n",
       "    }\n",
       "</style>\n",
       "<table border=\"1\" class=\"dataframe\">\n",
       "  <thead>\n",
       "    <tr style=\"text-align: right;\">\n",
       "      <th></th>\n",
       "      <th>label_data</th>\n",
       "      <th>tweets_text</th>\n",
       "    </tr>\n",
       "  </thead>\n",
       "  <tbody>\n",
       "    <tr>\n",
       "      <th>0</th>\n",
       "      <td>unhealthy</td>\n",
       "      <td>Note to self don t eat scones before training ...</td>\n",
       "    </tr>\n",
       "    <tr>\n",
       "      <th>2</th>\n",
       "      <td>healthy</td>\n",
       "      <td>I feel like my body is trying to get sick but ...</td>\n",
       "    </tr>\n",
       "    <tr>\n",
       "      <th>4</th>\n",
       "      <td>unhealthy</td>\n",
       "      <td>when everyone goes out to eat after exams w th...</td>\n",
       "    </tr>\n",
       "    <tr>\n",
       "      <th>6</th>\n",
       "      <td>unhealthy</td>\n",
       "      <td>Potato chips and ginger ale for breakfast...do...</td>\n",
       "    </tr>\n",
       "    <tr>\n",
       "      <th>8</th>\n",
       "      <td>unhealthy</td>\n",
       "      <td>just ate a cold chicken kebab i found on the d...</td>\n",
       "    </tr>\n",
       "  </tbody>\n",
       "</table>\n",
       "</div>"
      ],
      "text/plain": [
       "  label_data                                        tweets_text\n",
       "0  unhealthy  Note to self don t eat scones before training ...\n",
       "2    healthy  I feel like my body is trying to get sick but ...\n",
       "4  unhealthy  when everyone goes out to eat after exams w th...\n",
       "6  unhealthy  Potato chips and ginger ale for breakfast...do...\n",
       "8  unhealthy  just ate a cold chicken kebab i found on the d..."
      ]
     },
     "execution_count": 16,
     "metadata": {},
     "output_type": "execute_result"
    }
   ],
   "source": [
    "tweets_food.head()"
   ]
  },
  {
   "cell_type": "markdown",
   "metadata": {},
   "source": [
    "## code snippet:\n",
    "* the following block tranforms the tweets_food data labels of categorical in nature into one hot-encoding(single digit representation - numeric) format\n",
    "* The One-hot encoding means that, in contrast to Binary representation, the labels will be presented in a way that only one bit will be on for a specific label."
   ]
  },
  {
   "cell_type": "code",
   "execution_count": 17,
   "metadata": {
    "collapsed": true
   },
   "outputs": [],
   "source": [
    "#before jump into models, I convert the categorical classes into one-hot encoding format\n",
    "# integer encode\n",
    "label_encoder = LabelEncoder()\n",
    "integer_encoded = label_encoder.fit_transform(tweets_food['label_data'])\n",
    "onehot_encoder = OneHotEncoder(sparse=False)\n",
    "integer_encoded = integer_encoded.reshape(len(integer_encoded), 1)\n",
    "labels = onehot_encoder.fit_transform(integer_encoded)\n",
    "#print(tweets_food['label_data'])"
   ]
  },
  {
   "cell_type": "markdown",
   "metadata": {},
   "source": [
    "### code snippet:\n",
    "### loading pretrained 200 dimentional GloVe  word embedding from standford NLP library\n",
    "#### GloVe: Global Vectors (GloVe) model combines the benefits of the both word2vec skip-gram model when it comes to context, and the  matrix factorization methods that can uses global statistical information i.e.  co-occurrence frequencies of words over whole corpus.\n",
    "1. The following block of code assigns the trained embedded weights of each word to the corresponding words in pre-trained glove file.\n",
    "2. Thus created word-word embeddings values will be store in embeddings_index dictionary."
   ]
  },
  {
   "cell_type": "code",
   "execution_count": 18,
   "metadata": {
    "collapsed": true
   },
   "outputs": [],
   "source": [
    "#loading pretrained word embeddings\n",
    "embeddings_index = {}\n",
    "f = open('glove.twitter.27B.200d.txt')\n",
    "for line in f:\n",
    "    #print(line)\n",
    "    values = line.split()\n",
    "    word = values[0]\n",
    "    coefs = np.asarray(values[1:], dtype='float32')\n",
    "    embeddings_index[word] = coefs\n",
    "f.close()"
   ]
  },
  {
   "cell_type": "markdown",
   "metadata": {},
   "source": [
    "### code snippet:\n",
    "* we loaded the pre-trained word embedding vectors. Now, the following block of code creats the vocabulary of tweets using keras Tokenizer.\n",
    "* Get indices of each word in word sequence using tokenizer word_index method.\n",
    "* Inorder to represent each input word in standard and strict format (as neural network accpets input features of  same vector length) we used pad_sequences method to append extra values to the word. It pads each word the max length."
   ]
  },
  {
   "cell_type": "code",
   "execution_count": 19,
   "metadata": {
    "collapsed": true
   },
   "outputs": [],
   "source": [
    "tokenizer = Tokenizer()\n",
    "tokenizer.fit_on_texts(list(tweets_food.tweets_text))\n",
    "sequences = tokenizer.texts_to_sequences(list(tweets_food.tweets_text))\n",
    "word_index = tokenizer.word_index\n",
    "max_length = max(map(lambda x:len(x), tweets_food.tweets_text))\n",
    "data = pad_sequences(sequences, maxlen=max_length)"
   ]
  },
  {
   "cell_type": "markdown",
   "metadata": {},
   "source": [
    "### code snippet:\n",
    "* the following block of code initializes the embedding_matrix with length of the vocabulary and the dimension of the vector space i.e. 200\n",
    "* for each word in vocabulary, gets its corresponding embedding vector from the embedding_index dictionary and will be placed in embedding_matrix at their correpsonding index. Thus way, each word's word embedding weights are updated."
   ]
  },
  {
   "cell_type": "code",
   "execution_count": 20,
   "metadata": {
    "collapsed": true
   },
   "outputs": [],
   "source": [
    "#assin the embed vector to corresponding words in the tweet corpus\n",
    "embed_dim = 200\n",
    "embedding_matrix = np.random.random((len(word_index) + 1, embed_dim))\n",
    "for word, i in word_index.items():\n",
    "    embedding_vector = embeddings_index.get(word)\n",
    "    if embedding_vector is not None:\n",
    "        # words not found in embedding index will be all-zeros.\n",
    "        embedding_matrix[i] = embedding_vector"
   ]
  },
  {
   "cell_type": "markdown",
   "metadata": {},
   "source": [
    "### code snippet:\n",
    "* The following block of code saves the trained model with the given name in .h5 format"
   ]
  },
  {
   "cell_type": "code",
   "execution_count": 21,
   "metadata": {
    "collapsed": true
   },
   "outputs": [],
   "source": [
    "#to save the model\n",
    "def saveModel(file_name, model):\n",
    "    #saving model to HDF5\n",
    "    model.save(\"{}_model.h5\".format(file_name))\n",
    "    print(\"Saved model to disk\")"
   ]
  },
  {
   "cell_type": "markdown",
   "metadata": {},
   "source": [
    "### code snippet:\n",
    "* this method takes the built model, processed data, target labels to be predicted and finally the file name to save trained model,\n",
    "* This method is used across all models in this notebook (util method)\n",
    "* It splits up the processed data into train-test splits, and model will be trained on train dataset with 0.2 fraction validation split,\n",
    "* test dataset will be used for evaluation of the model to be reported back the model results."
   ]
  },
  {
   "cell_type": "code",
   "execution_count": 22,
   "metadata": {
    "collapsed": true
   },
   "outputs": [],
   "source": [
    "def evaluate_model(test_x, test_y, file_name):\n",
    "    model = load_model(file_name)\n",
    "    score = model.evaluate(test_x, test_y, verbose = 0)\n",
    "    print(\"the loss {} and the accuracy score for test dataset is {}\".format(score[0], score[1]))"
   ]
  },
  {
   "cell_type": "code",
   "execution_count": 23,
   "metadata": {
    "collapsed": true
   },
   "outputs": [],
   "source": [
    "def train_test_model(model, input_data, target, file_name):\n",
    "    # Define callbacks.\n",
    "    model_checkpoint = ModelCheckpoint(file_name, monitor='val_loss', verbose=1, save_best_only=True)\n",
    "    early_stopping = EarlyStopping(monitor='val_loss', patience=5, verbose=1, mode='min')\n",
    "    callbacks_list = [model_checkpoint, early_stopping]\n",
    "    train_x, test_x, train_y, test_y = train_test_split(input_data, target, test_size = 0.2)\n",
    "    net_hist = model.fit(train_x, train_y, batch_size= 20, validation_split= 0.2, epochs=40,  verbose=True, callbacks=callbacks_list)\n",
    "    evaluate_model(test_x, test_y, file_name)\n",
    "    return net_hist"
   ]
  },
  {
   "cell_type": "markdown",
   "metadata": {},
   "source": [
    "### Model explanation:\n",
    "* Embedding_layer is a fully connected layer and the weights are embedding weights. and we already saw the weight matrix which has the words and their corresponding word-embedding weights, here we use the weight matrix as a lookup table which avoids whole matrix multiplication.\n",
    "* sequence_input accepts the tweet text in the form of sequence of words vector representation each with length of max_length. note that it's in one dimensional nature as it is a vector.\n",
    "* this layer followed by 3 1D convolutions (as input is 1D input vector) with kernel size of 512 but with different filter sizes (4, 5, 5)\n",
    "* before connecting the resultant features of conv layers to the FC layer I used dropout layer with 0.5 probability as regularizer to drop few activations.\n",
    "* finally softmax layer with 3 outputs (labels)\n",
    "* to train the model, I used Adam optimizer with loss function of categorical_cross entropy function with accuracy metrix."
   ]
  },
  {
   "cell_type": "code",
   "execution_count": 32,
   "metadata": {},
   "outputs": [
    {
     "name": "stdout",
     "output_type": "stream",
     "text": [
      "Train on 7104 samples, validate on 1777 samples\n",
      "Epoch 1/40\n",
      "7100/7104 [============================>.] - ETA: 0s - loss: 0.6409 - acc: 0.7479Epoch 00001: val_loss improved from inf to 0.53720, saving model to glove\n",
      "7104/7104 [==============================] - 57s 8ms/step - loss: 0.6408 - acc: 0.7480 - val_loss: 0.5372 - val_acc: 0.7417\n",
      "Epoch 2/40\n",
      "7100/7104 [============================>.] - ETA: 0s - loss: 0.5329 - acc: 0.7579Epoch 00002: val_loss improved from 0.53720 to 0.51444, saving model to glove\n",
      "7104/7104 [==============================] - 57s 8ms/step - loss: 0.5331 - acc: 0.7577 - val_loss: 0.5144 - val_acc: 0.7479\n",
      "Epoch 3/40\n",
      "7100/7104 [============================>.] - ETA: 0s - loss: 0.5061 - acc: 0.7656Epoch 00003: val_loss improved from 0.51444 to 0.49491, saving model to glove\n",
      "7104/7104 [==============================] - 57s 8ms/step - loss: 0.5061 - acc: 0.7656 - val_loss: 0.4949 - val_acc: 0.7445\n",
      "Epoch 4/40\n",
      "7100/7104 [============================>.] - ETA: 0s - loss: 0.5124 - acc: 0.7570Epoch 00004: val_loss did not improve\n",
      "7104/7104 [==============================] - 57s 8ms/step - loss: 0.5123 - acc: 0.7572 - val_loss: 0.4951 - val_acc: 0.7423\n",
      "Epoch 5/40\n",
      "7100/7104 [============================>.] - ETA: 0s - loss: 0.5078 - acc: 0.7654Epoch 00005: val_loss did not improve\n",
      "7104/7104 [==============================] - 57s 8ms/step - loss: 0.5077 - acc: 0.7653 - val_loss: 0.4972 - val_acc: 0.7518\n",
      "Epoch 6/40\n",
      "7100/7104 [============================>.] - ETA: 0s - loss: 0.4867 - acc: 0.7672Epoch 00006: val_loss improved from 0.49491 to 0.48761, saving model to glove\n",
      "7104/7104 [==============================] - 57s 8ms/step - loss: 0.4866 - acc: 0.7672 - val_loss: 0.4876 - val_acc: 0.7513\n",
      "Epoch 7/40\n",
      "7100/7104 [============================>.] - ETA: 0s - loss: 0.4833 - acc: 0.7686Epoch 00007: val_loss did not improve\n",
      "7104/7104 [==============================] - 57s 8ms/step - loss: 0.4830 - acc: 0.7687 - val_loss: 0.5139 - val_acc: 0.7389\n",
      "Epoch 8/40\n",
      "7100/7104 [============================>.] - ETA: 0s - loss: 0.4836 - acc: 0.7663Epoch 00008: val_loss did not improve\n",
      "7104/7104 [==============================] - 57s 8ms/step - loss: 0.4836 - acc: 0.7663 - val_loss: 0.5073 - val_acc: 0.7372\n",
      "Epoch 9/40\n",
      "7100/7104 [============================>.] - ETA: 0s - loss: 0.4954 - acc: 0.7682Epoch 00009: val_loss did not improve\n",
      "7104/7104 [==============================] - 57s 8ms/step - loss: 0.4953 - acc: 0.7682 - val_loss: 0.5711 - val_acc: 0.7344\n",
      "Epoch 10/40\n",
      "7100/7104 [============================>.] - ETA: 0s - loss: 0.5101 - acc: 0.7642Epoch 00010: val_loss did not improve\n",
      "7104/7104 [==============================] - 57s 8ms/step - loss: 0.5104 - acc: 0.7639 - val_loss: 0.5139 - val_acc: 0.7406\n",
      "Epoch 11/40\n",
      "7100/7104 [============================>.] - ETA: 0s - loss: 0.4902 - acc: 0.7665Epoch 00011: val_loss did not improve\n",
      "7104/7104 [==============================] - 57s 8ms/step - loss: 0.4903 - acc: 0.7665 - val_loss: 0.5709 - val_acc: 0.7462\n",
      "Epoch 00011: early stopping\n",
      "the loss 0.5216772570260094 and the accuracy score for test dataset is 0.7582170194411589\n"
     ]
    }
   ],
   "source": [
    "file_name = 'glove_model.h5'\n",
    "if os.path.isfile('glove_model.h5'):\n",
    "    model = load_model('glove_model.h5')\n",
    "    net_hist = train_test_model(model, data, labels, \"glove\")\n",
    "else:\n",
    "    embedding_layer = Embedding(len(word_index) + 1,\n",
    "                                embed_dim,\n",
    "                                weights=[embedding_matrix],\n",
    "                                input_length=max_length,\n",
    "                                trainable=True)\n",
    "\n",
    "    sequence_input = Input(shape=(max_length,), dtype='int32')\n",
    "    embedded_sequences = embedding_layer(sequence_input)\n",
    "    l_cov1= Conv1D(512, 4, activation='relu')(embedded_sequences)\n",
    "    l_pool1 = MaxPooling1D(4)(l_cov1)\n",
    "    l_cov2 = Conv1D(512, 5, activation='relu')(l_pool1)\n",
    "    l_pool2 = MaxPooling1D(5)(l_cov2)\n",
    "    l_cov3 = Conv1D(512, 5, padding=\"same\", activation='relu')(l_pool2)\n",
    "    l_pool3 = MaxPooling1D(35, padding=\"same\")(l_cov3)\n",
    "    l_flat = Flatten()(l_pool3)\n",
    "    dropout = Dropout(0.5)(l_flat)\n",
    "    l_dense = Dense(128, activation='relu',  kernel_initializer='uniform')(dropout)\n",
    "    pred = Dense(3, activation='softmax', name = 'fc')(l_dense)\n",
    "    model = Model(sequence_input, pred)\n",
    "    model.compile(optimizer='adam', loss='categorical_crossentropy', metrics=['accuracy'])\n",
    "    print(model.summary())\n",
    "    net_hist = train_test_model(model, data, labels, \"glove\")"
   ]
  },
  {
   "cell_type": "code",
   "execution_count": 33,
   "metadata": {},
   "outputs": [
    {
     "data": {
      "image/png": "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\n",
      "text/plain": [
       "<matplotlib.figure.Figure at 0x7f6dd96c1240>"
      ]
     },
     "metadata": {},
     "output_type": "display_data"
    }
   ],
   "source": [
    "history = net_hist\n",
    "plt.plot(history.history['loss'])\n",
    "plt.plot(history.history['val_loss'])\n",
    "plt.title('model train vs validation loss')\n",
    "plt.ylabel('loss')\n",
    "plt.xlabel('epoch')\n",
    "plt.legend(['train', 'validation'], loc='upper right')\n",
    "plt.show()"
   ]
  },
  {
   "cell_type": "code",
   "execution_count": 34,
   "metadata": {},
   "outputs": [
    {
     "data": {
      "image/png": "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\n",
      "text/plain": [
       "<matplotlib.figure.Figure at 0x7f6d49ed2cf8>"
      ]
     },
     "metadata": {},
     "output_type": "display_data"
    }
   ],
   "source": [
    "plt.plot(history.history['acc'])\n",
    "plt.plot(history.history['val_acc'])\n",
    "plt.title('model train vs validation acc')\n",
    "plt.ylabel('acc')\n",
    "plt.xlabel('epoch')\n",
    "plt.legend(['train', 'validation'], loc='upper right')\n",
    "plt.show()"
   ]
  },
  {
   "cell_type": "markdown",
   "metadata": {},
   "source": [
    "### observations of above mode:\n",
    "* from above results we could see that, sometimes the validation loss is less than training loss. It is because of the dropout layer. As mentioned in keras developer guide, it is an usual behaviour becuase of while training common regularizer penalties will be applied but while validation these penalties will be turned off,\n",
    "* Along with that, the loss of the training is average loss of all batches in a epoch but validation loss is calculated at the end of the epoch.\n",
    "* And dropout also might be the reason, as while training it drops some activations with given probability but while validation it doesn't do that.\n",
    "* From accuracy and loss graph, we could observe\n",
    "    * after epoch 10 (epoch started from 0 in graph, so 9+1), validation accuracy increases along with the training accuracy but one weired thing I could observe is validation loss and training loss also increasing: I sense that this model is underfitting and has very high bias, and it needs more training.\n
    "    \n",
    "### Tuning the model:\n",
    "* It needs more training, need to experiment with more changes in the network architecture \n"
    "* we could see the inflection points in the graph i.e. validation accuracy went down and training accuracy going up very fast, so model is underfitting the data. Hence I used EarlyStopping wrapper to prevent the model from overfitting with patience parameter 3(it allows lowering validation accuracy for 3 epochs and then stops the training the model.)\n",
    "* ModelCheckPoint wrapper saves the best model, if it finds the impovement in validation_accuracy from epoch to epoch. and for evaluation the saved best model will be used.\n",
    "* but what I have observed is, accuracy is not the correct choice of metric for model earlystopping conditionsbecuase of inconsistencies in the model evaluation due to dropout regularization.\n",
    "* So I changed the condition for earlystopping tp val_loss i.e. error rate with patience parameter 5. Similarly I am checkponting the model with minimum val_loss value.\n",
    "* with above constraints the best model I got for epoch 6 which gave the accuracy about 75%"
   ]
  },
  {
   "cell_type": "code",
   "execution_count": 53,
   "metadata": {
    "collapsed": true
   },
   "outputs": [],
   "source": [
    "# train_x, test_x, train_y, test_y = train_test_split(data, labels, test_size = 0.2)\n",
    "# x_train, val_x, y_train, val_y = train_test_split(train_x, train_y, test_size = 0.2) \n",
    "# model.fit(x_train, y_train, validation_data=(val_x, val_y), epochs = 20, batch_size = 20, verbose = False)\n",
    "# score = model.evaluate(test_x, test_y, verbose = 0)\n",
    "# print(\"the loss {} and the accuracy score for test dataset is {}\".format(score[0], score[1]))"
   ]
  },
  {
   "cell_type": "markdown",
   "metadata": {},
   "source": [
    "### Till now we have seen the model perofrmance using tweet-glove preptrained glove-model now we will train our CNN classifier on word embedding model which doesn't have pre-trained weights"
   ]
  },
  {
   "cell_type": "markdown",
   "metadata": {},
   "source": [
    "### code snippet:\n",
    "* the following code creates the vocabulary as we did above, given the tweets data it creates tokens and indices for corresponding tokens.\n",
    "* word_freq method removes the words with the frequency of the word is less than the given frequency value. And returns resulatant words list and a dictionary with the remaining words list and their corresponding indices.\n",
    "                    word --> index\n",
    "                    index --> word"
   ]
  },
  {
   "cell_type": "code",
   "execution_count": 54,
   "metadata": {
    "collapsed": true
   },
   "outputs": [],
   "source": [
    "#filter the words based on the word frequency and get the word and corresponding word index and \n",
    "def word_freq(all_vocabulary, freq):\n",
    "    sorted_vocab = sorted(dict(collections.Counter(all_vocabulary)).items(), key=operator.itemgetter(1))\n",
    "    final_vocab = [k for k,v in sorted_vocab if v>=freq]\n",
    "    word_idx = dict((c, i + 1) for i, c in enumerate(final_vocab))\n",
    "    return final_vocab, word_idx\n",
    "\n",
    "final_vocab, word_idx = word_freq(np.hstack(tokenizeData(tweets_food.tweets_text)),2)\n",
    "vocab_len = len(final_vocab)"
   ]
  },
  {
   "cell_type": "markdown",
   "metadata": {},
   "source": [
    "### code snippet:\n",
    "* the following code creates a word vector with their correposnding word indices that exists in the word_idx dictionary,\n",
    "* Then transforms each tweet of words vector into same length of maxlen with pad_sequences method. That created data will be used for training the model."
   ]
  },
  {
   "cell_type": "code",
   "execution_count": 55,
   "metadata": {
    "collapsed": true
   },
   "outputs": [],
   "source": [
    "#transforms sentence into vector of words\n",
    "def sentenceToVect(data, word_idx, final_vocab, maxlen=40):\n",
    "    X = []\n",
    "    notexist = len(final_vocab)+2\n",
    "    for sentences in data:\n",
    "        x=[]\n",
    "        for word in sentences.split(\" \"):\n",
    "            if word in final_vocab:\n",
    "                x.append(word_idx[word])\n",
    "            else:\n",
    "                x.append(notexist)\n",
    "        X.append(x)\n",
    "    return (pad_sequences(X, maxlen=maxlen))\n",
    "\n",
    "max_length = 50\n",
    "embed_dim = 150\n",
    "train_data = sentenceToVect(tweets_food.tweets_text, word_idx, final_vocab, max_length)\n",
    "final_vocab_len = vocab_len+3"
   ]
  },
  {
   "cell_type": "code",
   "execution_count": 56,
   "metadata": {},
   "outputs": [
    {
     "data": {
      "text/plain": [
       "(11102, 50)"
      ]
     },
     "execution_count": 56,
     "metadata": {},
     "output_type": "execute_result"
    }
   ],
   "source": [
    "train_data.shape"
   ]
  },
  {
   "cell_type": "markdown",
   "metadata": {},
   "source": [
    "### code snippet:\n",
    "* The following code does model creation if model already doesn't exist, else uses the saved model for furthur training\n",
    "* This model structure is inspired from the  **Zhang et al, in the paper “A Sensitivity Analysis of (and Practitioners’ Guide to) Convolutional Neural Networks for Sentence Classification”**\n",
    "* The embedding_layer Doesn't have any pre trained embedding weights, so I added voab_length and embedding dimension parameters to embedding but not weights.\n",
    "* It has four different sizes of filter for each kernel,\n",
    "* So each Convolution layer convolutes Input word_embedding sepertely and then merged into single layer,\n",
    "* Since in earlier model I have seen frequent inflecitons between training and validation performance, for this model I used Btach Normalization which normalizes output of hidden layer activations and also makes learning faster.\n",
    "* For FC, I used LeakyRelu instead Relu as LeakyRelu outperforms Relu in the cases of vanishing gradient by allowing alpha fraction of gradient into non-active-neurons. I have added dropout also to make the model more  generalizable."
   ]
  },
  {
   "cell_type": "code",
   "execution_count": 57,
   "metadata": {},
   "outputs": [
    {
     "name": "stdout",
     "output_type": "stream",
     "text": [
      "Train on 7104 samples, validate on 1777 samples\n",
      "Epoch 1/40\n",
      "7060/7104 [============================>.] - ETA: 0s - loss: 0.6395 - acc: 0.7421Epoch 00001: val_loss improved from inf to 0.43934, saving model to wordembed\n",
      "7104/7104 [==============================] - 9s 1ms/step - loss: 0.6396 - acc: 0.7423 - val_loss: 0.4393 - val_acc: 0.8346\n",
      "Epoch 2/40\n",
      "7100/7104 [============================>.] - ETA: 0s - loss: 0.4577 - acc: 0.8135Epoch 00002: val_loss improved from 0.43934 to 0.40057, saving model to wordembed\n",
      "7104/7104 [==============================] - 9s 1ms/step - loss: 0.4580 - acc: 0.8133 - val_loss: 0.4006 - val_acc: 0.8419\n",
      "Epoch 3/40\n",
      "7100/7104 [============================>.] - ETA: 0s - loss: 0.3705 - acc: 0.8561Epoch 00003: val_loss improved from 0.40057 to 0.39045, saving model to wordembed\n",
      "7104/7104 [==============================] - 8s 1ms/step - loss: 0.3705 - acc: 0.8560 - val_loss: 0.3904 - val_acc: 0.8514\n",
      "Epoch 4/40\n",
      "7100/7104 [============================>.] - ETA: 0s - loss: 0.3171 - acc: 0.8742Epoch 00004: val_loss did not improve\n",
      "7104/7104 [==============================] - 8s 1ms/step - loss: 0.3183 - acc: 0.8740 - val_loss: 0.4001 - val_acc: 0.8554\n",
      "Epoch 5/40\n",
      "7060/7104 [============================>.] - ETA: 0s - loss: 0.2765 - acc: 0.8929Epoch 00005: val_loss did not improve\n",
      "7104/7104 [==============================] - 8s 1ms/step - loss: 0.2761 - acc: 0.8930 - val_loss: 0.4265 - val_acc: 0.8486\n",
      "Epoch 6/40\n",
      "7060/7104 [============================>.] - ETA: 0s - loss: 0.2430 - acc: 0.9092Epoch 00006: val_loss did not improve\n",
      "7104/7104 [==============================] - 8s 1ms/step - loss: 0.2426 - acc: 0.9093 - val_loss: 0.4314 - val_acc: 0.8542\n",
      "Epoch 7/40\n",
      "7080/7104 [============================>.] - ETA: 0s - loss: 0.2218 - acc: 0.9188Epoch 00007: val_loss did not improve\n",
      "7104/7104 [==============================] - 8s 1ms/step - loss: 0.2224 - acc: 0.9186 - val_loss: 0.3942 - val_acc: 0.8492\n",
      "Epoch 8/40\n",
      "7080/7104 [============================>.] - ETA: 0s - loss: 0.2045 - acc: 0.9216Epoch 00008: val_loss did not improve\n",
      "7104/7104 [==============================] - 8s 1ms/step - loss: 0.2042 - acc: 0.9217 - val_loss: 0.4395 - val_acc: 0.8475\n",
      "Epoch 00008: early stopping\n",
      "the loss 0.37035617435611834 and the accuracy score for test dataset is 0.8554705088066658\n"
     ]
    }
   ],
   "source": [
    "if os.path.isfile('wordembed_model.h5'):\n",
    "    model = load_model('wordembed_model.h5')\n",
    "    history = train_test_model(model, train_data, labels, \"wordembed\")\n",
    "else:\n",
    "    sequence_input = Input(shape=(max_length,embed_dim), dtype='float32')\n",
    "    from keras.layers.advanced_activations import LeakyReLU\n",
    "    filter_sizes = (3,5,5,7)\n",
    "    dropout_prob = [0.5,0.5]\n",
    "    graph_in = sequence_input\n",
    "    convs = []\n",
    "    mul = 1\n",
    "    for filter_s in filter_sizes:\n",
    "        conv = Conv1D(filters=32*mul,\n",
    "                             kernel_size=filter_s,\n",
    "                             padding='valid',\n",
    "                             activation='relu')(graph_in)\n",
    "        pool = MaxPooling1D(max_length-filter_s+1)(conv)\n",
    "        flattenMax = Flatten()(pool)\n",
    "        convs.append(flattenMax)\n",
    "        mul+=1\n",
    "    out = concatenate(convs, axis=1)    \n",
    "    graph = Model(graph_in, out, name=\"word_embed\")\n",
    "    model = Sequential()\n",
    "    model.add(Embedding(input_dim=final_vocab_len, #size of vocabulary\n",
    "                     output_dim = embed_dim,\n",
    "                     input_length = max_length,\n",
    "                     trainable=True))\n",
    "    model.add(Dropout(dropout_prob[0]))\n",
    "    model.add(graph)\n",
    "    model.add(Dense(128, kernel_initializer='uniform'))\n",
    "    model.add(BatchNormalization())\n",
    "    model.add(Dropout(dropout_prob[1]))\n",
    "    #model.add(Activation('relu'))\n",
    "    model.add(LeakyReLU(alpha=.001))\n",
    "    model.add(Dense(3))\n",
    "    #model.add(BatchNormalization())\n",
    "    model.add(Activation('softmax'))\n",
    "    model.compile(optimizer='adam', loss='categorical_crossentropy', metrics=['accuracy'])\n",
    "    model.summary()\n",
    "    history = train_test_model(model, train_data, labels, \"wordembed\")"
   ]
  },
  {
   "cell_type": "markdown",
   "metadata": {},
   "source": [
    "### code snippet:\n",
    "* the followng 2 blocks creates the plots for model history 1 for loss and another one for accuracy"
   ]
  },
  {
   "cell_type": "code",
   "execution_count": 58,
   "metadata": {},
   "outputs": [
    {
     "data": {
      "image/png": "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\n",
      "text/plain": [
       "<matplotlib.figure.Figure at 0x7fe9f5626940>"
      ]
     },
     "metadata": {},
     "output_type": "display_data"
    }
   ],
   "source": [
    "plt.plot(history.history['loss'])\n",
    "plt.plot(history.history['val_loss'])\n",
    "plt.title('training vs validation loss')\n",
    "plt.ylabel('loss')\n",
    "plt.xlabel('epoch')\n",
    "plt.legend(['train', 'validation'], loc='upper right')\n",
    "plt.show()"
   ]
  },
  {
   "cell_type": "code",
   "execution_count": 59,
   "metadata": {},
   "outputs": [
    {
     "data": {
      "image/png": "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\n",
      "text/plain": [
       "<matplotlib.figure.Figure at 0x7fea09e0eb38>"
      ]
     },
     "metadata": {},
     "output_type": "display_data"
    }
   ],
   "source": [
    "plt.plot(history.history['acc'])\n",
    "plt.plot(history.history['val_acc'])\n",
    "plt.title('training vs validation accuracy')\n",
    "plt.ylabel('accuracy')\n",
    "plt.xlabel('epoch')\n",
    "plt.legend(['train', 'validation'], loc='upper right')\n",
    "plt.show()"
   ]
  },
  {
   "cell_type": "markdown",
   "metadata": {},
   "source": [
    "### observations from above model:\n",
    "* As we are using the saved model, it already reached to saturation level, so upon trianing it rather overfits than generalizing,\n",
    "* compared to earlier model it gives better results in terms of accuracy i.e. 85%\n",
    "* Also we could see that, there are not much inflections in the plots, but we could see the fluctuations in val_loss like drop/increase from epoch to epoch, this may be due to the noise in the data but on a whole the loss is increasing from saturation. However it will be taken care by call back method. \n",
    "* From the plots it clearly shows that, on epochs increasing the model is overfitting the data beyond the epoch 3( epoch graph starts from 0). So we used earlystopping condition to terminate our model from furthur training.\n",
    "* Our saved model is the model i.e at epoch 3."
   ]
  },
  {
   "cell_type": "markdown",
   "metadata": {
    "collapsed": true
   },
   "source": [
    "## word2vec- skip gram model\n",
    "**given the target of the word predicts the context of the input word**\n",
    "* Idea of skip gram and negative sampling: Given the actual word-context pairs with randomly-generated non-observed pairs(negative samples), the model maximizes the probability of the actual word-context pairs,while minimizing the probability of the negative pairs.\n",
    "* the skip-gram architecture performs better than CBOW. Here, we pass in a word and try to predict the words surrounding it in the text. In this way, we can train the network to learn representations for words that show up in similar contexts.\n",
    "* the following code does the tokenization and converts tokenized words into their indices form, and indices to words form,\n",
    "* to standardize input to Neural network, each sentence is padded with max length"
   ]
  },
  {
   "cell_type": "code",
   "execution_count": 35,
   "metadata": {
    "collapsed": true
   },
   "outputs": [],
   "source": [
    "max_length = 15\n",
    "tokenizer = Tokenizer(filters='!\"#$%&()*+,-./:;<=>?@[\\\\]^_`{|}~')\n",
    "tokenizer.fit_on_texts(tweets_food.tweets_text)\n",
    "sequences = tokenizer.texts_to_sequences(list(tweets_food.tweets_text))\n",
    "word_index = tokenizer.word_index\n",
    "data = pad_sequences(sequences, maxlen=max_length)\n",
    "#vocab size\n",
    "vocab_len = len(tokenizer.word_index) + 1"
   ]
  },
  {
   "cell_type": "code",
   "execution_count": 36,
   "metadata": {},
   "outputs": [
    {
     "data": {
      "text/plain": [
       "(11102, 15)"
      ]
     },
     "execution_count": 36,
     "metadata": {},
     "output_type": "execute_result"
    }
   ],
   "source": [
    "data.shape"
   ]
  },
  {
   "cell_type": "code",
   "execution_count": 37,
   "metadata": {
    "collapsed": true
   },
   "outputs": [],
   "source": [
    "# size of word vector representation\n",
    "embedding_size = 200\n",
    "number_of_epochs = 20\n",
    "# number of random negative samples per word\n",
    "num_neg_samples = 4\n",
    "# distant words w.r.t given word will be given less weights by randomly sampling them with the given probability i.e sampling factor\n",
    "sampling_factor = 1e-1\n",
    "window_size = 4\n",
    "save_path = './tweets_food_model.txt'"
   ]
  },
  {
   "cell_type": "markdown",
   "metadata": {},
   "source": [
    "### code snippet:\n",
    "***Skip-gram model:***\n",
    "* this model is a simple FFNN with one Input layer, hidden layer and one output layer. It takes the word from a vocabulary and gives the probability of it's surrounding words within the range of window size.\n",
    "* After seceral epochs of training, the weights of the hidden layer are the word embeddings that can be used for CNN classifier.\n",
    "* This network takes the 2 inputs, one for context word and another one is for nearby word i.e. target word. To represent thes 2 inputs i created context and target layers,\n",
    "* these 2 layers will be merged with dot product to compute the similarity between target and context while training,\n",
    "* The output of the network is a sigmoid layer which converts these similarities into probabailities vector of nearby word in the vocabulary.( Note: Here I chose sigmoid layer because of this layer clips the most frequent context words to max value i.e high probability)\n",
    "* This model will be trianed with loss function of binary cross entropy using Adam Optimizer( Fast convergence)"
   ]
  },
  {
   "cell_type": "code",
   "execution_count": 38,
   "metadata": {
    "collapsed": true
   },
   "outputs": [],
   "source": [
    "from keras.layers import Activation, Embedding, Merge, Reshape\n",
    "def create_model():\n",
    "    target_word = Sequential()\n",
    "    target_word.add(Embedding(vocab_len, embedding_size, input_length=1))\n",
    "\n",
    "    context = Sequential()\n",
    "    context.add(Embedding(vocab_len, embedding_size, input_length=3))\n",
    "\n",
    "    model = Sequential()\n",
    "    model.add(Merge([target_word, context], mode='dot', dot_axes=2))\n",
    "    model.add(Reshape((1,), input_shape=(1, 1)))\n",
    "    model.add(Activation('sigmoid'))\n",
    "    model.compile(loss='binary_crossentropy', optimizer='adam')\n",
    "    return model"
   ]
  },
  {
   "cell_type": "markdown",
   "metadata": {},
   "source": [
    "### code snippet:\n",
    "   * the train_model method takes the created skip-gram model as input and trains the model on tweets text vocabulary for given number of epochs.\n",
    "   * skipgrams method of keras gets the context and target words couples using skip gram parameters( window_size, negative_samples_vocab)size etc) for each sentence.\n",
    "   *  Model will be trained for each input vector using train_on_batch method (online Machine Leanring approach)"
   ]
  },
  {
   "cell_type": "code",
   "execution_count": 39,
   "metadata": {
    "collapsed": true
   },
   "outputs": [],
   "source": [
    "def train_model(model):\n",
    "    sampling_table = make_sampling_table(vocab_len, sampling_factor=sampling_factor)\n",
    "    for epoch in range(number_of_epochs):\n",
    "        loss = 0.\n",
    "        for i, sentence in enumerate(sequences):\n",
    "            if i % 500 == 0:\n",
    "                print('{}/{}'.format(i, len(sequences)))\n",
    "            couples, labels = skipgrams(sequence=sentence, vocabulary_size=vocab_len, window_size=window_size,\n",
    "                                        negative_samples=num_neg_samples, sampling_table=sampling_table)\n",
    "            if couples:\n",
    "                words, contexts = zip(*couples)\n",
    "                words = np.array(words, dtype=np.int32)\n",
    "                contexts = np.array(contexts, dtype=np.int32)\n",
    "                y = np.array(labels, dtype=np.int32)\n",
    "                loss += model.train_on_batch([words, contexts], y)\n",
    "        print('epoch finished: {} with loss: {}'.format(epoch, loss))\n",
    "\n",
    "    return model"
   ]
  },
  {
   "cell_type": "markdown",
   "metadata": {},
   "source": [
    "### code snippet:\n",
    "* this method writes the every word embedding into a file ans saves it int the mentioned path"
   ]
  },
  {
   "cell_type": "code",
   "execution_count": 40,
   "metadata": {
    "collapsed": true
   },
   "outputs": [],
   "source": [
    "def save_model(model):\n",
    "    with open(save_path, 'w') as f:\n",
    "        f.write(' '.join([str(vocab_len - 1), str(embedding_size)]))\n",
    "        f.write('\\n')\n",
    "        vectors = model.get_weights()[0]\n",
    "        for word, i in tokenizer.word_index.items():\n",
    "            f.write(word)\n",
    "            f.write(' ')\n",
    "            f.write(' '.join(map(str, list(vectors[0][i, :]))))\n",
    "            f.write('\\n')"
   ]
  },
  {
   "cell_type": "markdown",
   "metadata": {},
   "source": [
    "### load_embedding:\n",
    "* this method loads the saved embedding weights file and parse each line of embedding vectors assigns it back to corresponding word and return them as dictionary."
   ]
  },
  {
   "cell_type": "code",
   "execution_count": 41,
   "metadata": {
    "collapsed": true
   },
   "outputs": [],
   "source": [
    "# load embedding as a dict\n",
    "def load_embedding(filename):\n",
    "    file = open(filename,'r')\n",
    "    lines = file.readlines()[1:]\n",
    "    file.close()\n",
    "    # create a map of words to vectors\n",
    "    embedding = dict()\n",
    "    for line in lines:\n",
    "        words = line.split()\n",
    "        # key is string word, value is numpy array for vector\n",
    "        embedding[words[0]] = np.asarray(words[1:], dtype='float32')\n",
    "    return embedding"
   ]
  },
  {
   "cell_type": "markdown",
   "metadata": {},
   "source": [
    "### get_weight_matrix:\n",
    "* this method is to create word embedding matrix as we did to above models, check every word in tweets vocabulary and with the words in the loaded embedding dicionary. If it find match it assigns the corresponding word embedding vector to that word."
   ]
  },
  {
   "cell_type": "code",
   "execution_count": 42,
   "metadata": {
    "collapsed": true
   },
   "outputs": [],
   "source": [
    "# create a weight matrix for the Embedding layer from a loaded embedding\n",
    "def get_weight_matrix(embedding, vocab):\n",
    "    #total vocabulary size plus 0 for unknown words\n",
    "    vocab_size = len(vocab) + 1\n",
    "    #define weight matrix dimensions with all 0\n",
    "    weight_matrix = np.zeros((vocab_size, embedding_size))\n",
    "    #step vocab, store vectors using the Tokenizer's integer mapping\n",
    "    for word, i in vocab.items():\n",
    "        weight_matrix[i] = embedding.get(word)\n",
    "    return weight_matrix"
   ]
  },
  {
   "cell_type": "code",
   "execution_count": 43,
   "metadata": {
    "collapsed": true
   },
   "outputs": [],
   "source": [
    "# this block of code creates and trains the skip gram model, if it doensn't \n",
    "#find already trained embedding model in the given path\n",
    "if os.path.isfile(save_path):\n",
    "    pass\n",
    "else:\n",
    "    model = create_model()\n",
    "    model = train_model(model)\n",
    "    save_model(model)"
   ]
  },
  {
   "cell_type": "markdown",
   "metadata": {},
   "source": [
    "### code snippet:\n",
    "* the following 2 blocks of code creates the CNN model with skip gram word embeddings for classification task.\n",
    "* the first block of code loads the saved word embeddings txt file and parses them into trained word embedding weights. these weights will be assigned to their corresponding words in the tweet texts. Using these embedding vectors creates a an Embedding layer with dimensions of vocabulary length and embedding size,\n",
    "* This model structure also similar to the  **Zhang et al, in the paper “A Sensitivity Analysis of (and Practitioners’ Guide to) Convolutional Neural Networks for Sentence Classification”** proposed model,\n",
    "* It has four different sizes of filter for each kernel,\n",
    "* So each Convolution layer convolutes Input word_embedding sepertely and then merged into single layer as we did above,\n",
    "* In this model also  For FC, I used Btach Normalization, LeakyRelu instead Relu and dropout layers to prevent it from overfitting and for faster learning."
   ]
  },
  {
   "cell_type": "code",
   "execution_count": 44,
   "metadata": {
    "collapsed": true
   },
   "outputs": [],
   "source": [
    "# load embedding from file and create the embedding layer\n",
    "raw_embedding = load_embedding('tweets_food_model.txt')\n",
    "embedding_vectors = get_weight_matrix(raw_embedding, tokenizer.word_index)\n",
    "embedding_layer = Embedding(vocab_len, embedding_size, weights=[embedding_vectors], input_length=max_length, trainable=False)"
   ]
  },
  {
   "cell_type": "code",
   "execution_count": 45,
   "metadata": {
    "collapsed": true
   },
   "outputs": [],
   "source": [
    "# define model\n",
    "def defineModel(max_sequence_length, embed_dim, embedding_layer):\n",
    "    sequence_input = Input(shape=(max_sequence_length,embed_dim), dtype='float32')\n",
    "    filter_sizes = (3,5,5,7)\n",
    "    dropout_prob = [0.5,0.5]\n",
    "    convs = []\n",
    "    mul = 1\n",
    "    for filter_s in filter_sizes:\n",
    "        conv = Conv1D(filters=32*mul,\n",
    "                             kernel_size=filter_s,\n",
    "                             padding='valid',\n",
    "                             activation='relu')(sequence_input)\n",
    "        pool = MaxPooling1D(max_length-filter_s)(conv)\n",
    "        flattenMax = Flatten()(pool)\n",
    "        convs.append(flattenMax)\n",
    "        mul+=1\n",
    "    out = concatenate(convs, axis=1)    \n",
    "    graph = Model(sequence_input, out, name=\"word2vec\")\n",
    "    model = Sequential()\n",
    "    model.add(embedding_layer)\n",
    "    model.add(Dropout(dropout_prob[0]))\n",
    "    model.add(graph)\n",
    "    model.add(Dense(128, kernel_initializer='uniform'))\n",
    "    #model.add(BatchNormalization())\n",
    "    model.add(Dropout(0.5))\n",
    "    model.add(LeakyReLU(alpha=.001))\n",
    "    model.add(Dense(3))\n",
    "    model.add(BatchNormalization())\n",
    "    model.add(Activation('softmax'))\n",
    "    model.compile(optimizer='adam', loss='categorical_crossentropy', metrics=['accuracy'])\n",
    "    return model"
   ]
  },
  {
   "cell_type": "code",
   "execution_count": 46,
   "metadata": {},
   "outputs": [
    {
     "name": "stdout",
     "output_type": "stream",
     "text": [
      "Train on 7104 samples, validate on 1777 samples\n",
      "Epoch 1/40\n",
      "7080/7104 [============================>.] - ETA: 0s - loss: 0.1727 - acc: 0.9408Epoch 00001: val_loss improved from inf to 0.04753, saving model to skipgram\n",
      "7104/7104 [==============================] - 3s 414us/step - loss: 0.1723 - acc: 0.9410 - val_loss: 0.0475 - val_acc: 0.9848\n",
      "Epoch 2/40\n",
      "7040/7104 [============================>.] - ETA: 0s - loss: 0.1627 - acc: 0.9449Epoch 00002: val_loss did not improve\n",
      "7104/7104 [==============================] - 3s 365us/step - loss: 0.1635 - acc: 0.9447 - val_loss: 0.0531 - val_acc: 0.9826\n",
      "Epoch 3/40\n",
      "7040/7104 [============================>.] - ETA: 0s - loss: 0.1618 - acc: 0.9408Epoch 00003: val_loss did not improve\n",
      "7104/7104 [==============================] - 3s 367us/step - loss: 0.1614 - acc: 0.9410 - val_loss: 0.0623 - val_acc: 0.9803\n",
      "Epoch 4/40\n",
      "6960/7104 [============================>.] - ETA: 0s - loss: 0.1508 - acc: 0.9454Epoch 00004: val_loss did not improve\n",
      "7104/7104 [==============================] - 3s 370us/step - loss: 0.1518 - acc: 0.9454 - val_loss: 0.0615 - val_acc: 0.9786\n",
      "Epoch 5/40\n",
      "7020/7104 [============================>.] - ETA: 0s - loss: 0.1330 - acc: 0.9544Epoch 00005: val_loss did not improve\n",
      "7104/7104 [==============================] - 3s 364us/step - loss: 0.1322 - acc: 0.9548 - val_loss: 0.0684 - val_acc: 0.9775\n",
      "Epoch 6/40\n",
      "7020/7104 [============================>.] - ETA: 0s - loss: 0.1376 - acc: 0.9523Epoch 00006: val_loss did not improve\n",
      "7104/7104 [==============================] - 3s 360us/step - loss: 0.1379 - acc: 0.9524 - val_loss: 0.0732 - val_acc: 0.9752\n",
      "Epoch 00006: early stopping\n",
      "the loss 0.0425568099170571 and the accuracy score for test dataset is 0.9878433138226025\n"
     ]
    }
   ],
   "source": [
    "# if alreeady trained model exists it uses the trained model for training, if not creates new model and will \n",
    "#use it for training\n",
    "if os.path.isfile('skipgram_model.h5'):\n",
    "    model = load_model('skipgram_model.h5')\n",
    "    history = train_test_model(model, data, labels,\"skipgram\")\n",
    "else:\n",
    "    model = defineModel(max_length, embedding_size, embedding_layer)\n",
    "    print(model.summary())\n",
    "    history = train_test_model(model, data, labels, \"skipgram\")"
   ]
  },
  {
   "cell_type": "markdown",
   "metadata": {},
   "source": [
    "### code snippet:\n",
    "* the followng 2 blocks creates the plots for model history one for loss and another one for accuracy"
   ]
  },
  {
   "cell_type": "code",
   "execution_count": 47,
   "metadata": {},
   "outputs": [
    {
     "data": {
      "image/png": "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\n",
      "text/plain": [
       "<matplotlib.figure.Figure at 0x7f6d47253eb8>"
      ]
     },
     "metadata": {},
     "output_type": "display_data"
    }
   ],
   "source": [
    "plt.plot(history.history['loss'])\n",
    "plt.plot(history.history['val_loss'])\n",
    "plt.title('model train vs validation loss')\n",
    "plt.ylabel('loss')\n",
    "plt.xlabel('epoch')\n",
    "plt.legend(['train', 'validation'], loc='upper right')\n",
    "plt.show()"
   ]
  },
  {
   "cell_type": "code",
   "execution_count": 48,
   "metadata": {},
   "outputs": [
    {
     "data": {
      "image/png": "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\n",
      "text/plain": [
       "<matplotlib.figure.Figure at 0x7f6d4714f4e0>"
      ]
     },
     "metadata": {},
     "output_type": "display_data"
    }
   ],
   "source": [
    "plt.plot(history.history['acc'])\n",
    "plt.plot(history.history['val_acc'])\n",
    "plt.title('model train vs validation accuracy')\n",
    "plt.ylabel('accuracy')\n",
    "plt.xlabel('epoch')\n",
    "plt.legend(['train', 'validation'], loc='upper left')\n",
    "plt.show()"
   ]
  },
  {
   "cell_type": "markdown",
   "metadata": {},
   "source": [
    "### observations from above model:\n",
    "* As we are using the saved model, it already reached to saturation level, so on furthur training rather it's overfitting than performing better\n",
    "* compared to earlier model it gives better results i.e. 98%\n",
    "* Also we could see that, there are no much inflections in the plots, but the validation loss is lower than training validation. This is due the dropout regularization,as it drops the activation weights while training but not during validation. \n",
    "* From the plots it clearly shows that, on epochs increasing the model is overfitting as model already reached threshold point. So on furthur training it will not be performing better. Our early stopping condition worked well in this kind of scenario by terminating the training by 5 epochs."
   ]
  },
  {
   "cell_type": "markdown",
   "metadata": {
    "collapsed": true
   },
   "source": [
    "## Gradient Boosting Classifier with doc2vec model"
   ]
  },
  {
   "cell_type": "markdown",
   "metadata": {},
   "source": [
    "###  Doc2Vec:\n",
    "* It is also kind of word embedding model but it represents not only words, but entire sentences each with special and unique label(developer choice)\n",
    "* It is also a simple Feed forward neural network(FFNN) with one input, one hidden and one output layer. But while training doc2vec model takes the input of the tweet tokens alon with label tag.\n",
    "* the following block of code resets the indeices of the tweets_food dataframe(to make it clean indexed) \n",
    "* for each tweet in the dataframe, it splits up into array of words , assigns a label to it by appening its index number to label.\n",
    "* Thus for all tweets creates array of words and corresponding label. It will stored in list returns the labeled senetences lst."
   ]
  },
  {
   "cell_type": "code",
   "execution_count": 49,
   "metadata": {
    "collapsed": true
   },
   "outputs": [],
   "source": [
    "tweets_food = tweets_food.reset_index(drop=True)\n",
    "#transform the tweets text into the doc2vec compatible input format\n",
    "def label_sentences(df):\n",
    "    labeled_sentences = []\n",
    "    for index, row in df.iterrows():\n",
    "        #print(index)\n",
    "        tokenized_words = row[\"tweets_text\"].lower().split(\" \")\n",
    "        labeled_sentences.append(LabeledSentence(words=tokenized_words, tags=['label{}'.format(index)]))\n",
    "    return labeled_sentences"
   ]
  },
  {
   "cell_type": "markdown",
   "metadata": {},
   "source": [
    "### tweets_doc2vec_model:\n",
    "* Doc2Vec is combination of word-embeddings and document embeddings. It's a supervise learning technique, given the word with label tag tries to maximize the probabilty of getting target word.\n",
    "* the training of doc2ve model can be taken care by genism Doc2Vec method\n",
    "* this method takes the labeled_sentences list as input and trains the doc2vec model on that list with decyaing learning rate\n",
    "* finally it returns the trained model"
   ]
  },
  {
   "cell_type": "code",
   "execution_count": 50,
   "metadata": {
    "collapsed": true
   },
   "outputs": [],
   "source": [
    "#trains the doc2vec model\n",
    "def tweets_doc2vec_model(labeled_sentences):\n",
    "    model = Doc2Vec(alpha=0.01, min_alpha=0.01, min_count = 2)\n",
    "    model.build_vocab(labeled_sentences)\n",
    "    for epoch in range(10):\n",
    "        model.train(labeled_sentences)\n",
    "        model.alpha -= 0.002 \n",
    "        model.min_alpha = model.alpha\n",
    "    return model\n",
    "\n",
    "seq = label_sentences(tweets_food)\n",
    "model = tweets_doc2vec_model(seq)"
   ]
  },
  {
   "cell_type": "markdown",
   "metadata": {},
   "source": [
    "### vectorize_tweets:\n",
    "* this method accepts the tweets dataframe and trained doc2vec model, and get the doc2vec embeddings for each tweet using unique label tag. These embeddings will be added to tweets list,\n",
    "* thus created list will be merged to tweets dataframe with the name of \"vectorized_tweets\""
   ]
  },
  {
   "cell_type": "code",
   "execution_count": 51,
   "metadata": {
    "collapsed": true
   },
   "outputs": [],
   "source": [
    "#get the each tweet with it's corresponding assigned label\n",
    "def vectorize_tweets(df,d2v_model):\n",
    "    y = []\n",
    "    tweets = []\n",
    "    for i in range(0,df.shape[0]):\n",
    "        label = 'label{}'.format(i)\n",
    "        tweets.append(d2v_model.docvecs[label])\n",
    "    df['vectorized_tweets'] = tweets    \n",
    "    return df\n"
   ]
  },
  {
   "cell_type": "markdown",
   "metadata": {},
   "source": [
    "### Classifier creation and training:\n",
    "* I chose gradient boosting classifer as my model and chose number of trees(n_estimators), min_samples_split( the minimum number of samples to be in child node to consider parent node as split), min_samples_leaf (number of samples to be in a node to be considered as leaf node) as hyper-parameters for tunig\n",
    "* I created parameters dictionary with the to be tested values,\n",
    "* thus created parameters grid is given to GridSearchCv method of sklearn package for parameter tuning\n",
    "* finally thus best model trained on the train data, and tested for evaluation"
   ]
  },
  {
   "cell_type": "code",
   "execution_count": 58,
   "metadata": {},
   "outputs": [
    {
     "name": "stdout",
     "output_type": "stream",
     "text": [
      "   label_data                                        tweets_text  \\\n",
      "0           2  Note to self don t eat scones before training ...   \n",
      "1           0  I feel like my body is trying to get sick but ...   \n",
      "\n",
      "                                   vectorized_tweets  \n",
      "0  [-0.0462999, 0.0126775, -0.0769915, 0.120464, ...  \n",
      "1  [-0.00822943, -0.012755, -0.0619634, 0.0270319...  \n"
     ]
    }
   ],
   "source": [
    "# train the classifier with gridsearch\n",
    "def train_classifier(X,y):\n",
    "    n_estimators = [500]\n",
    "    min_samples_split = [4]\n",
    "    min_samples_leaf = [3]\n",
    "\n",
    "    parameters = {'n_estimators': n_estimators, 'min_samples_leaf': min_samples_leaf,\n",
    "                  'min_samples_split': min_samples_split}\n",
    "\n",
    "    clf = GridSearchCV(GradientBoostingClassifier(random_state=7, learning_rate = 0.01), cv=5, param_grid=parameters)\n",
    "    clf.fit(X, y)\n",
    "    return clf\n",
    "\n",
    "doc2vec_df = vectorize_tweets(tweets_food, model)\n",
    "print (doc2vec_df.head(2))"
   ]
  },
  {
   "cell_type": "code",
   "execution_count": 59,
   "metadata": {},
   "outputs": [
    {
     "name": "stdout",
     "output_type": "stream",
     "text": [
      "0.534230606189 is the accuracy score of the best possible model on validation set\n",
      "0.53181272509\n"
     ]
    }
   ],
   "source": [
    "doc2vec_df.label_data = doc2vec_df.label_data.astype('category').cat.codes\n",
    "X_train, X_test, y_train, y_test = train_test_split(doc2vec_df.vectorized_tweets.T.tolist(), doc2vec_df.label_data, test_size=0.15, random_state=17)\n",
    "classifier = train_classifier(X_train,y_train)\n",
    "print (classifier.best_score_, \"is the accuracy score of the best possible model on validation set\")\n",
    "print (classifier.score(X_test,y_test))"
   ]
  },
  {
   "cell_type": "code",
   "execution_count": 57,
   "metadata": {
    "collapsed": true
   },
   "outputs": [],
   "source": [
    "# since grid search is taking much time I didnt used array of parameters for tuning\n",
    "# Comparing to word2vec-embedding with CNN models, performance of GradientClassifier is low. It can be improved by checking with more parameters and more time of training "
   ]
  },
  {
   "cell_type": "code",
   "execution_count": null,
   "metadata": {
    "collapsed": true
   },
   "outputs": [],
   "source": []
  }
 ],
 "metadata": {
  "kernelspec": {
   "display_name": "Python 3",
   "language": "python",
   "name": "python3"
  },
  "language_info": {
   "codemirror_mode": {
    "name": "ipython",
    "version": 3
   },
   "file_extension": ".py",
   "mimetype": "text/x-python",
   "name": "python",
   "nbconvert_exporter": "python",
   "pygments_lexer": "ipython3",
   "version": "3.5.2"
  }
 },
 "nbformat": 4,
 "nbformat_minor": 2
}
